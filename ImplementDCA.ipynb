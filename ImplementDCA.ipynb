{
 "cells": [
  {
   "cell_type": "markdown",
   "metadata": {},
   "source": [
    "# DCA"
   ]
  },
  {
   "cell_type": "code",
   "execution_count": 1,
   "metadata": {},
   "outputs": [],
   "source": [
    "import numpy as np\n",
    "import cplex\n",
    "\n",
    "\n",
    "k = 30\n",
    "m = 50\n",
    "R = np.random.uniform(low = 5,high=10,size=(k,m))\n",
    "h = 3\n",
    "\n",
    "E = np.sort(R,axis=0)\n",
    "E = E[k-3:]\n",
    "E = np.sum(E,axis=0)\n",
    "\n",
    "def objective(E,X):\n",
    "  return np.linalg.norm(E-X.dot(R))"
   ]
  },
  {
   "cell_type": "code",
   "execution_count": 2,
   "metadata": {},
   "outputs": [],
   "source": [
    "def make_team_vector(indices):\n",
    "  v = np.zeros(k)\n",
    "  v[indices] = 1\n",
    "  return v"
   ]
  },
  {
   "cell_type": "markdown",
   "metadata": {},
   "source": [
    "### Giải bằng greedy tìm global"
   ]
  },
  {
   "cell_type": "code",
   "execution_count": 3,
   "metadata": {},
   "outputs": [
    {
     "name": "stdout",
     "output_type": "stream",
     "text": [
      "best team is :  [5, 12, 20]  with distance =  40.97753687084861\n"
     ]
    }
   ],
   "source": [
    "# brute force find global optima :\n",
    "best_team = [0,1,2]\n",
    "lowest_distance = 2e8\n",
    "for first in range(k-2):\n",
    "  for second in range(first,k-1):\n",
    "    for third in range(second,k):\n",
    "      team = np.zeros(k)\n",
    "      team[[first,second,third]] = 1 # vector X_i [0,...1...1...1..0]\n",
    "      d = objective(E,team) # tính khoảng cách \n",
    "      if( d < lowest_distance):\n",
    "        best_team = [first,second,third]\n",
    "        lowest_distance = d\n",
    "        \n",
    "print('best team is : ',best_team,' with distance = ',lowest_distance)"
   ]
  },
  {
   "cell_type": "markdown",
   "metadata": {},
   "source": [
    "### Giải G(x) với solver :"
   ]
  },
  {
   "cell_type": "markdown",
   "metadata": {},
   "source": [
    "Hệ số truyền vào cplex :\n",
    "- quadratic matrix: 2 * R.dot(R.T) ( k * k )\n",
    "- linear : -2 * (E.dot(R.T))"
   ]
  },
  {
   "cell_type": "code",
   "execution_count": 4,
   "metadata": {},
   "outputs": [
    {
     "name": "stdout",
     "output_type": "stream",
     "text": [
      "CPXPARAM_Read_DataCheck                          1\n",
      "Tried aggregator 1 time.\n",
      "MIP Presolve added 870 rows and 435 columns.\n",
      "Reduced MIP has 871 rows, 465 columns, and 1770 nonzeros.\n",
      "Reduced MIP has 465 binaries, 0 generals, 0 SOSs, and 0 indicators.\n",
      "Presolve time = 0.01 sec. (0.12 ticks)\n",
      "Found incumbent of value -39498.406632 after 0.01 sec. (0.41 ticks)\n",
      "Probing time = 0.00 sec. (0.12 ticks)\n",
      "Tried aggregator 1 time.\n",
      "MIP Presolve eliminated 435 rows and 0 columns.\n",
      "Reduced MIP has 436 rows, 465 columns, and 1335 nonzeros.\n",
      "Reduced MIP has 465 binaries, 0 generals, 0 SOSs, and 0 indicators.\n",
      "Presolve time = 0.02 sec. (1.05 ticks)\n",
      "Probing time = 0.00 sec. (0.09 ticks)\n",
      "MIP emphasis: balance optimality and feasibility.\n",
      "MIP search method: dynamic search.\n",
      "Parallel mode: deterministic, using up to 4 threads.\n",
      "Root relaxation solution time = 0.00 sec. (0.46 ticks)\n",
      "\n",
      "        Nodes                                         Cuts/\n",
      "   Node  Left     Objective  IInf  Best Integer    Best Bound    ItCnt     Gap\n",
      "\n",
      "*     0+    0                       -39498.4066  -564823.4116              --- \n",
      "      0     0   -58696.6837     6   -39498.4066   -58696.6837        5   48.61%\n",
      "*     0+    0                       -40273.9240   -58696.6837            45.74%\n",
      "      0     0   -58539.6920     6   -40273.9240       Cuts: 7        9   45.35%\n",
      "      0     0   -58388.5155     8   -40273.9240       Cuts: 7       16   44.98%\n",
      "      0     0   -58328.1827     9   -40273.9240   ZeroHalf: 7       21   44.83%\n",
      "      0     0   -58185.9065     8   -40273.9240  ZeroHalf: 10       32   44.48%\n",
      "      0     0   -58149.2644    10   -40273.9240  ZeroHalf: 13       36   44.38%\n",
      "      0     0   -58071.7113     8   -40273.9240   ZeroHalf: 6       42   44.19%\n",
      "      0     0   -58060.2720    10   -40273.9240  ZeroHalf: 11       46   44.16%\n",
      "      0     0   -58037.0151     6   -40273.9240   ZeroHalf: 7       51   44.11%\n",
      "      0     0   -57997.4265     9   -40273.9240  ZeroHalf: 10       55   44.01%\n",
      "      0     0   -57956.0399    10   -40273.9240  ZeroHalf: 14       60   43.90%\n",
      "      0     0   -57929.9851     9   -40273.9240   ZeroHalf: 9       65   43.84%\n",
      "      0     0   -57884.8627    10   -40273.9240   ZeroHalf: 8       73   43.73%\n",
      "      0     0   -57869.6319    12   -40273.9240  ZeroHalf: 14       77   43.69%\n",
      "      0     0   -57855.0476     6   -40273.9240   ZeroHalf: 4       81   43.65%\n",
      "      0     0   -57850.6388    10   -40273.9240  ZeroHalf: 13       83   43.64%\n",
      "      0     0   -57835.2755     6   -40273.9240   ZeroHalf: 4       86   43.60%\n",
      "      0     0   -57827.4157    12   -40273.9240  ZeroHalf: 10       90   43.59%\n",
      "*     0+    0                       -40357.7630   -57827.4157            43.29%\n",
      "      0     2   -57827.4157    12   -40357.7630   -56881.1843       90   40.94%\n",
      "Elapsed time = 0.23 sec. (32.85 ticks, tree = 0.01 MB, solutions = 3)\n",
      "\n",
      "Zero-half cuts applied:  17\n",
      "\n",
      "Root node processing (before b&c):\n",
      "  Real time             =    0.23 sec. (32.66 ticks)\n",
      "Parallel b&c, 4 threads:\n",
      "  Real time             =    0.11 sec. (28.64 ticks)\n",
      "  Sync time (average)   =    0.03 sec.\n",
      "  Wait time (average)   =    0.00 sec.\n",
      "                          ------------\n",
      "Total (root+branch&cut) =    0.34 sec. (61.29 ticks)\n"
     ]
    }
   ],
   "source": [
    "ub = [1.0] *k # bound của  0 <= x <=1 \n",
    "lb = [0.0] *k \n",
    "A = 2 * R.dot(R.T)\n",
    "names = ['x'+str(i) for i in range(k)]\n",
    "linexp = cplex.SparsePair(ind=names,val=[1.0] *k)\n",
    "row = [i for i in range(k)]\n",
    "qmat = [[row,A[i]] for i in range(k)] # Hệ số A để truyền vào cplex \n",
    "# first_part = E.dot(R.T)  # Phần E.dot (R.T)\n",
    "\n",
    "\n",
    "b = -2 * E.dot(R.T) # không gồm phần tau * xl \n",
    "\n",
    "p = cplex.Cplex() # make problem\n",
    "\n",
    "p.objective.set_sense(p.objective.sense.minimize)\n",
    "\n",
    "p.variables.add(obj=b,ub=ub,lb=lb,names=names,types=['I']*k) #  0 <= x_i <=1\n",
    "\n",
    "p.linear_constraints.add(lin_expr=[linexp], \n",
    "                       rhs=[3.0],senses=\"E\") # x0+x1 +... + xk = 3\n",
    "p.objective.set_quadratic(qmat) # set hệ số cho A\n",
    "\n",
    "p.solve()"
   ]
  },
  {
   "cell_type": "code",
   "execution_count": 5,
   "metadata": {},
   "outputs": [
    {
     "data": {
      "text/plain": [
       "array([0., 0., 0., 0., 0., 1., 0., 0., 0., 0., 0., 0., 1., 0., 0., 0., 0.,\n",
       "       0., 0., 0., 1., 0., 0., 0., 0., 0., 0., 0., 0., 0.])"
      ]
     },
     "execution_count": 5,
     "metadata": {},
     "output_type": "execute_result"
    }
   ],
   "source": [
    "np.array(p.solution.get_values())"
   ]
  },
  {
   "cell_type": "code",
   "execution_count": 6,
   "metadata": {
    "scrolled": true
   },
   "outputs": [
    {
     "name": "stdout",
     "output_type": "stream",
     "text": [
      "(array([ 5, 12, 20], dtype=int64),)\n",
      "40.97753687084861\n"
     ]
    }
   ],
   "source": [
    "team = np.array(p.solution.get_values())\n",
    "team = np.round(team).nonzero()\n",
    "print(team)\n",
    "print(objective(E,make_team_vector(team)))"
   ]
  },
  {
   "cell_type": "markdown",
   "metadata": {},
   "source": [
    "### Giải bằng G(x) - h(x) với solver,  $X_i \\in R$"
   ]
  },
  {
   "cell_type": "code",
   "execution_count": 7,
   "metadata": {},
   "outputs": [],
   "source": [
    "def make_problem(new_b):\n",
    "  p = cplex.Cplex() # make problem\n",
    "\n",
    "  p.objective.set_sense(p.objective.sense.minimize)\n",
    "\n",
    "  p.variables.add(obj=new_b,ub=ub,lb=lb,names=names) #  0 <= x_i <=1\n",
    "\n",
    "  p.linear_constraints.add(lin_expr=[linexp], \n",
    "                       rhs=[3.0],senses=\"E\") # x0+x1 +... + xk = 3\n",
    "  p.objective.set_quadratic(qmat) # set hệ số cho A\n",
    "\n",
    "  p.solve()\n",
    "  return p"
   ]
  },
  {
   "cell_type": "code",
   "execution_count": 8,
   "metadata": {},
   "outputs": [],
   "source": [
    "list_tau = [0.1,1,10,20,30,50,100,1000,10000]"
   ]
  },
  {
   "cell_type": "code",
   "execution_count": 9,
   "metadata": {},
   "outputs": [],
   "source": [
    "first_part = E.dot(R.T)"
   ]
  },
  {
   "cell_type": "code",
   "execution_count": null,
   "metadata": {},
   "outputs": [],
   "source": [
    "mat_result = {}\n",
    "X_0 = np.zeros(k) \n",
    "\n",
    "for tau in list_tau:\n",
    "  dis = []\n",
    "  list_teams = []\n",
    "  b_0 = E.dot(R.T) - tau *(2*X_0 - 1)\n",
    "  p = make_problem(b_0)  \n",
    "  p.solve()\n",
    "  l = 0\n",
    "  while True:\n",
    "    result = p.solution.get_values()\n",
    "    team = np.array(result)\n",
    "    so = (-team).argsort()[:3]\n",
    "    team = np.zeros(k)\n",
    "    team[so] = 1\n",
    "    list_teams.append(team.nonzero())\n",
    "    dist = objective(E,team)\n",
    "    dis.append(dist)\n",
    "    if l > 1 :\n",
    "      if(dist > dis[l-1]):\n",
    "        print(str(l),'#######InCorrect######') # sai vì dist bắt buộc phải giảm \n",
    "        break\n",
    "      else:\n",
    "        if(dist == dis[l-1]):\n",
    "          break # break khi distance không đổi  \n",
    "    new_b = -2 * first_part - tau * (2*team - 1) # update b\n",
    "    p = make_problem(new_b)\n",
    "    p.solve()\n",
    "    l+=1\n",
    "  mat_result[tau] = list_teams"
   ]
  },
  {
   "cell_type": "code",
   "execution_count": 11,
   "metadata": {},
   "outputs": [
    {
     "data": {
      "text/plain": [
       "{0.1: [(array([10, 15, 16], dtype=int64),),\n",
       "  (array([ 5, 12, 20], dtype=int64),),\n",
       "  (array([ 5, 12, 20], dtype=int64),)],\n",
       " 1: [(array([10, 15, 16], dtype=int64),),\n",
       "  (array([ 5, 12, 20], dtype=int64),),\n",
       "  (array([ 5, 12, 20], dtype=int64),)],\n",
       " 10: [(array([10, 15, 16], dtype=int64),),\n",
       "  (array([ 5, 12, 20], dtype=int64),),\n",
       "  (array([ 5, 12, 20], dtype=int64),)],\n",
       " 20: [(array([10, 15, 16], dtype=int64),),\n",
       "  (array([ 5, 12, 20], dtype=int64),),\n",
       "  (array([ 5, 12, 20], dtype=int64),)],\n",
       " 30: [(array([10, 15, 16], dtype=int64),),\n",
       "  (array([ 5, 12, 20], dtype=int64),),\n",
       "  (array([ 5, 12, 20], dtype=int64),)],\n",
       " 50: [(array([10, 15, 16], dtype=int64),),\n",
       "  (array([ 5, 12, 20], dtype=int64),),\n",
       "  (array([ 5, 12, 20], dtype=int64),)],\n",
       " 100: [(array([10, 15, 16], dtype=int64),),\n",
       "  (array([ 5, 12, 20], dtype=int64),),\n",
       "  (array([ 5, 12, 20], dtype=int64),)],\n",
       " 1000: [(array([10, 15, 16], dtype=int64),),\n",
       "  (array([10, 15, 16], dtype=int64),),\n",
       "  (array([10, 15, 16], dtype=int64),)],\n",
       " 10000: [(array([10, 15, 16], dtype=int64),),\n",
       "  (array([10, 15, 16], dtype=int64),),\n",
       "  (array([10, 15, 16], dtype=int64),)]}"
      ]
     },
     "execution_count": 11,
     "metadata": {},
     "output_type": "execute_result"
    }
   ],
   "source": [
    "mat_result"
   ]
  },
  {
   "cell_type": "markdown",
   "metadata": {},
   "source": [
    "### Giải G(x) - H(x), điều kiện $X_i \\in N$"
   ]
  },
  {
   "cell_type": "code",
   "execution_count": 12,
   "metadata": {},
   "outputs": [],
   "source": [
    "def make_problem2(new_b):\n",
    "  p = cplex.Cplex() # make problem\n",
    "\n",
    "  p.objective.set_sense(p.objective.sense.minimize)\n",
    "\n",
    "  p.variables.add(obj=new_b,ub=ub,lb=lb,names=names,types=['I']*k) #  0 <= x_i <=1\n",
    "\n",
    "  p.linear_constraints.add(lin_expr=[linexp], \n",
    "                       rhs=[3.0],senses=\"E\") # x0+x1 +... + xk = 3\n",
    "  p.objective.set_quadratic(qmat) # set hệ số cho A\n",
    "\n",
    "  p.solve()\n",
    "  return p"
   ]
  },
  {
   "cell_type": "code",
   "execution_count": null,
   "metadata": {},
   "outputs": [],
   "source": [
    "mat_result = {}\n",
    "X_0 = np.zeros(k) \n",
    "\n",
    "for tau in list_tau:\n",
    "  dis = []\n",
    "  list_teams = []\n",
    "  b_0 = E.dot(R.T) - tau *(2*X_0 - 1)\n",
    "  p = make_problem(b_0)  \n",
    "  p.solve()\n",
    "  l = 0\n",
    "  while True:\n",
    "    result = p.solution.get_values()\n",
    "    team = np.array(result)\n",
    "    so = (-team).argsort()[:3]\n",
    "    team = np.zeros(k)\n",
    "    team[so] = 1\n",
    "    list_teams.append(team.nonzero())\n",
    "    dist = objective(E,team)\n",
    "    dis.append(dist)\n",
    "    if l > 1 :\n",
    "      if(dist > dis[l-1]):\n",
    "        print(str(l),'#######InCorrect######') # sai vì dist bắt buộc phải giảm \n",
    "        break\n",
    "      else:\n",
    "        if(dist == dis[l-1]):\n",
    "          break # break khi distance không đổi  \n",
    "    new_b = -2 * first_part - tau * (2*team - 1) # update b\n",
    "    p = make_problem2(new_b)\n",
    "    p.solve()\n",
    "    l+=1\n",
    "  mat_result[tau] = list_teams"
   ]
  },
  {
   "cell_type": "code",
   "execution_count": 14,
   "metadata": {},
   "outputs": [
    {
     "data": {
      "text/plain": [
       "{0.1: [(array([10, 15, 16], dtype=int64),),\n",
       "  (array([ 5, 12, 20], dtype=int64),),\n",
       "  (array([ 5, 12, 20], dtype=int64),)],\n",
       " 1: [(array([10, 15, 16], dtype=int64),),\n",
       "  (array([ 5, 12, 20], dtype=int64),),\n",
       "  (array([ 5, 12, 20], dtype=int64),)],\n",
       " 10: [(array([10, 15, 16], dtype=int64),),\n",
       "  (array([ 5, 12, 20], dtype=int64),),\n",
       "  (array([ 5, 12, 20], dtype=int64),)],\n",
       " 20: [(array([10, 15, 16], dtype=int64),),\n",
       "  (array([ 5, 12, 20], dtype=int64),),\n",
       "  (array([ 5, 12, 20], dtype=int64),)],\n",
       " 30: [(array([10, 15, 16], dtype=int64),),\n",
       "  (array([ 5, 12, 20], dtype=int64),),\n",
       "  (array([ 5, 12, 20], dtype=int64),)],\n",
       " 50: [(array([10, 15, 16], dtype=int64),),\n",
       "  (array([ 5, 12, 20], dtype=int64),),\n",
       "  (array([ 5, 12, 20], dtype=int64),)],\n",
       " 100: [(array([10, 15, 16], dtype=int64),),\n",
       "  (array([ 5, 12, 20], dtype=int64),),\n",
       "  (array([ 5, 12, 20], dtype=int64),)],\n",
       " 1000: [(array([10, 15, 16], dtype=int64),),\n",
       "  (array([10, 15, 16], dtype=int64),),\n",
       "  (array([10, 15, 16], dtype=int64),)],\n",
       " 10000: [(array([10, 15, 16], dtype=int64),),\n",
       "  (array([10, 15, 16], dtype=int64),),\n",
       "  (array([10, 15, 16], dtype=int64),)]}"
      ]
     },
     "execution_count": 14,
     "metadata": {},
     "output_type": "execute_result"
    }
   ],
   "source": [
    "mat_result"
   ]
  },
  {
   "cell_type": "markdown",
   "metadata": {
    "collapsed": true
   },
   "source": [
    "- Các case có nghiệm đầu giống nhau vì có cùng X_0 \n",
    "- Khi $\\tau$ quá lớn, DCA giải không ra nghiệm "
   ]
  },
  {
   "cell_type": "code",
   "execution_count": null,
   "metadata": {},
   "outputs": [],
   "source": []
  }
 ],
 "metadata": {
  "kernelspec": {
   "display_name": "Python 3",
   "language": "python",
   "name": "python3"
  },
  "language_info": {
   "codemirror_mode": {
    "name": "ipython",
    "version": 3
   },
   "file_extension": ".py",
   "mimetype": "text/x-python",
   "name": "python",
   "nbconvert_exporter": "python",
   "pygments_lexer": "ipython3",
   "version": "3.6.5"
  }
 },
 "nbformat": 4,
 "nbformat_minor": 2
}
