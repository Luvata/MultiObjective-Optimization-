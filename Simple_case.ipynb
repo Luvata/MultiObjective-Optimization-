{
 "cells": [
  {
   "cell_type": "markdown",
   "metadata": {},
   "source": [
    "## Lấy điểm max mỗi môn từ điểm của từng students trong 1 team"
   ]
  },
  {
   "cell_type": "markdown",
   "metadata": {},
   "source": [
    "### Case 1 : Điểm 0-1"
   ]
  },
  {
   "cell_type": "code",
   "execution_count": 1,
   "metadata": {
    "collapsed": true
   },
   "outputs": [],
   "source": [
    "import numpy as np\n",
    "import matplotlib.pyplot as plt\n",
    "%matplotlib inline\n",
    "import seaborn as sns\n",
    "sns.set(color_codes=True)"
   ]
  },
  {
   "cell_type": "code",
   "execution_count": 2,
   "metadata": {
    "collapsed": true
   },
   "outputs": [],
   "source": [
    "k = 5\n",
    "P = np.array([[1,1,1,1,1,0,0,0,0,0],\n",
    "             [1,0,1,1,1,0,0,0,0,0],\n",
    "             [0,0,0,0,1,1,1,0,0,1],\n",
    "             [0,0,0,0,0,0,0,0,1,1],\n",
    "             [0,0,0,0,0,0,0,0,1,1]])"
   ]
  },
  {
   "cell_type": "code",
   "execution_count": 3,
   "metadata": {},
   "outputs": [
    {
     "data": {
      "text/plain": [
       "array([[1, 1, 1, 1, 1, 0, 0, 0, 0, 0],\n",
       "       [1, 0, 1, 1, 1, 0, 0, 0, 0, 0],\n",
       "       [0, 0, 0, 0, 1, 1, 1, 0, 0, 1],\n",
       "       [0, 0, 0, 0, 0, 0, 0, 0, 1, 1],\n",
       "       [0, 0, 0, 0, 0, 0, 0, 0, 1, 1]])"
      ]
     },
     "execution_count": 3,
     "metadata": {},
     "output_type": "execute_result"
    }
   ],
   "source": [
    "P"
   ]
  },
  {
   "cell_type": "code",
   "execution_count": 4,
   "metadata": {
    "collapsed": true
   },
   "outputs": [],
   "source": [
    "def objective_max_score(x):\n",
    "    # input : [] list team index, output team max score \n",
    "    return P[x,:].max(axis=0, keepdims=1)"
   ]
  },
  {
   "cell_type": "code",
   "execution_count": 5,
   "metadata": {
    "collapsed": true
   },
   "outputs": [],
   "source": [
    "def cosine_sim(v1,v2):\n",
    "    return np.dot(v1,v2)/(np.linalg.norm(v1) * np.linalg.norm(v2))"
   ]
  },
  {
   "cell_type": "code",
   "execution_count": 6,
   "metadata": {
    "collapsed": true
   },
   "outputs": [],
   "source": [
    "E = np.array([1,1,1,1,1,1,1,1,1,1])"
   ]
  },
  {
   "cell_type": "code",
   "execution_count": 7,
   "metadata": {},
   "outputs": [
    {
     "data": {
      "text/plain": [
       "9"
      ]
     },
     "execution_count": 7,
     "metadata": {},
     "output_type": "execute_result"
    }
   ],
   "source": [
    "objective_max_score([0,2,3]).sum()"
   ]
  },
  {
   "cell_type": "code",
   "execution_count": 8,
   "metadata": {},
   "outputs": [
    {
     "data": {
      "text/plain": [
       "8"
      ]
     },
     "execution_count": 8,
     "metadata": {},
     "output_type": "execute_result"
    }
   ],
   "source": [
    "objective_max_score([1,2,3]).sum()"
   ]
  },
  {
   "cell_type": "code",
   "execution_count": 9,
   "metadata": {
    "collapsed": true
   },
   "outputs": [],
   "source": [
    "team = []\n",
    "obj_score = []\n",
    "for first in range(k-2):\n",
    "    for(second) in range(first+1,k-1):\n",
    "        for(last) in range(second+1,k):\n",
    "            team.append([first,second,last])\n",
    "            obj_score.append(objective_max_score([first,second,last]).sum())"
   ]
  },
  {
   "cell_type": "code",
   "execution_count": 10,
   "metadata": {},
   "outputs": [
    {
     "data": {
      "text/plain": [
       "[8, 7, 7, 9, 9, 7, 8, 8, 6, 5]"
      ]
     },
     "execution_count": 10,
     "metadata": {},
     "output_type": "execute_result"
    }
   ],
   "source": [
    "obj_score"
   ]
  },
  {
   "cell_type": "code",
   "execution_count": 16,
   "metadata": {},
   "outputs": [
    {
     "name": "stdout",
     "output_type": "stream",
     "text": [
      "Team #3 : [0, 2, 3]  with performance :  [[1 1 1 1 1 1 1 0 1 1]]  has total score :  9\n"
     ]
    }
   ],
   "source": [
    "print(\"Team #3 :\",team[3],\" with performance : \",objective_max_score(team[3]), \" has total score : \",obj_score[3])"
   ]
  },
  {
   "cell_type": "code",
   "execution_count": 15,
   "metadata": {},
   "outputs": [
    {
     "name": "stdout",
     "output_type": "stream",
     "text": [
      "Team #4 : [0, 2, 4]  with performance :  [[1 1 1 1 1 1 1 0 1 1]]  has total score :  9\n"
     ]
    }
   ],
   "source": [
    "print(\"Team #4 :\",team[4],\" with performance : \",objective_max_score(team[4]),\" has total score : \",obj_score[4])"
   ]
  },
  {
   "cell_type": "markdown",
   "metadata": {},
   "source": [
    "### Case 2 : Điểm 0-10"
   ]
  },
  {
   "cell_type": "markdown",
   "metadata": {},
   "source": [
    "5 students, 10 problem types, 10 problems each type"
   ]
  },
  {
   "cell_type": "code",
   "execution_count": 17,
   "metadata": {
    "collapsed": true
   },
   "outputs": [],
   "source": [
    "k = 5\n",
    "n = 10\n",
    "m = 10"
   ]
  },
  {
   "cell_type": "code",
   "execution_count": 18,
   "metadata": {
    "collapsed": true
   },
   "outputs": [],
   "source": [
    "P = np.random.randint(low =0, high=11, size=[k,m])"
   ]
  },
  {
   "cell_type": "code",
   "execution_count": 19,
   "metadata": {},
   "outputs": [
    {
     "data": {
      "text/plain": [
       "array([[ 8,  2,  2,  1,  7, 10, 10,  5,  3,  5],\n",
       "       [ 3, 10,  0,  4,  3,  4,  7,  3,  3,  9],\n",
       "       [ 2,  9,  1,  2,  2,  0,  8,  0,  8,  9],\n",
       "       [10,  9,  7,  4,  9,  2,  7,  2,  7,  0],\n",
       "       [ 8,  7,  5,  4,  1,  9,  1,  5,  6,  0]])"
      ]
     },
     "execution_count": 19,
     "metadata": {},
     "output_type": "execute_result"
    }
   ],
   "source": [
    "P"
   ]
  },
  {
   "cell_type": "code",
   "execution_count": 36,
   "metadata": {
    "collapsed": true
   },
   "outputs": [],
   "source": [
    "team = []\n",
    "obj_score = []\n",
    "sum_score = []\n",
    "for first in range(k-2):\n",
    "    for(second) in range(first+1,k-1):\n",
    "        for(last) in range(second+1,k):\n",
    "            team.append([first,second,last]) # danh sách team\n",
    "            obj_score.append(objective_max_score([first,second,last]).sum()) # tổng điểm max của team\n",
    "            sum_score.append(P[[first,second,last],:].sum()) # tổng điểm của team"
   ]
  },
  {
   "cell_type": "code",
   "execution_count": 37,
   "metadata": {},
   "outputs": [
    {
     "data": {
      "text/plain": [
       "[73, 81, 74, 81, 75, 76, 72, 69, 77, 78]"
      ]
     },
     "execution_count": 37,
     "metadata": {},
     "output_type": "execute_result"
    }
   ],
   "source": [
    "obj_score"
   ]
  },
  {
   "cell_type": "code",
   "execution_count": 38,
   "metadata": {},
   "outputs": [
    {
     "data": {
      "text/plain": [
       "[140, 156, 145, 151, 140, 156, 144, 133, 149, 144]"
      ]
     },
     "execution_count": 38,
     "metadata": {},
     "output_type": "execute_result"
    }
   ],
   "source": [
    "sum_score"
   ]
  },
  {
   "cell_type": "code",
   "execution_count": 42,
   "metadata": {},
   "outputs": [
    {
     "data": {
      "text/plain": [
       "<seaborn.axisgrid.PairGrid at 0x1d3ada43390>"
      ]
     },
     "execution_count": 42,
     "metadata": {},
     "output_type": "execute_result"
    },
    {
     "data": {
      "image/png": "[encoded data removed]",
      "text/plain": [
       "<matplotlib.figure.Figure at 0x1d3ada43b70>"
      ]
     },
     "metadata": {},
     "output_type": "display_data"
    }
   ],
   "source": [
    "import pandas as pd\n",
    "\n",
    "data = pd.DataFrame(\n",
    "    {\n",
    "        'Max_score' : obj_score,\n",
    "        'Total_score' : sum_score\n",
    "    }\n",
    ")\n",
    "\n",
    "sns.pairplot(data=data)"
   ]
  },
  {
   "cell_type": "code",
   "execution_count": 33,
   "metadata": {},
   "outputs": [
    {
     "name": "stdout",
     "output_type": "stream",
     "text": [
      "Team #1 : [0, 1, 3]  with performance of each students : \n",
      " [[ 8  2  2  1  7 10 10  5  3  5]\n",
      " [ 3 10  0  4  3  4  7  3  3  9]\n",
      " [10  9  7  4  9  2  7  2  7  0]] \n",
      "And performance max of team :  [[10 10  7  4  9 10 10  5  7  9]]\n"
     ]
    }
   ],
   "source": [
    "print(\"Team #1 :\",team[1],\" with performance of each students : \\n\",P[team[1],:],\"\\nAnd performance max of team : \",objective_max_score(team[1]))"
   ]
  },
  {
   "cell_type": "code",
   "execution_count": 34,
   "metadata": {},
   "outputs": [
    {
     "name": "stdout",
     "output_type": "stream",
     "text": [
      "Team #3 : [0, 2, 3]  with performance of each students : \n",
      " [[ 8  2  2  1  7 10 10  5  3  5]\n",
      " [ 2  9  1  2  2  0  8  0  8  9]\n",
      " [10  9  7  4  9  2  7  2  7  0]] \n",
      "And performance max of team :  [[10 10  7  4  9 10 10  5  7  9]]\n"
     ]
    }
   ],
   "source": [
    "print(\"Team #3 :\",team[3],\" with performance of each students : \\n\",P[team[3],:],\"\\nAnd performance max of team : \",objective_max_score(team[1]))"
   ]
  },
  {
   "cell_type": "code",
   "execution_count": 35,
   "metadata": {},
   "outputs": [
    {
     "name": "stdout",
     "output_type": "stream",
     "text": [
      "Team #5 : [0, 3, 4]  with performance of each students : \n",
      " [[ 8  2  2  1  7 10 10  5  3  5]\n",
      " [10  9  7  4  9  2  7  2  7  0]\n",
      " [ 8  7  5  4  1  9  1  5  6  0]] \n",
      "And performance max of team :  [[10  9  7  4  9 10 10  5  7  5]]\n"
     ]
    }
   ],
   "source": [
    "print(\"Team #5 :\",team[5],\" with performance of each students : \\n\",P[team[5],:],\"\\nAnd performance max of team : \",objective_max_score(team[5]))"
   ]
  },
  {
   "cell_type": "markdown",
   "metadata": {},
   "source": [
    "Team #5 có điểm tổng cao nhất, tuy vậy điểm max thấp hơn team #1 và #3 do kết quả ở problem type cuối thấp hơn"
   ]
  },
  {
   "cell_type": "markdown",
   "metadata": {},
   "source": [
    "### Thử với mean reduced : Giảm điểm của team có điểm thấp hơn trung bình"
   ]
  },
  {
   "cell_type": "code",
   "execution_count": 45,
   "metadata": {},
   "outputs": [],
   "source": [
    "# điểm trung bình của tất cả : \n",
    "AVG = np.average(P, axis=0)"
   ]
  },
  {
   "cell_type": "code",
   "execution_count": 46,
   "metadata": {},
   "outputs": [
    {
     "data": {
      "text/plain": [
       "array([ 6.2,  7.4,  3. ,  3. ,  4.4,  5. ,  6.6,  3. ,  5.4,  4.6])"
      ]
     },
     "execution_count": 46,
     "metadata": {},
     "output_type": "execute_result"
    }
   ],
   "source": [
    "AVG"
   ]
  },
  {
   "cell_type": "code",
   "execution_count": 58,
   "metadata": {},
   "outputs": [],
   "source": [
    "def mean_reduced_score(a_team):\n",
    "    team_mean = np.mean(P[a_team,:],axis=0)\n",
    "    under = team_mean < AVG # trả về vector [0..1..] với x_i= 1 nếu team_mean[i] < avg[i]\n",
    "    diff = np.multiply(team_mean - AVG,under)\n",
    "    return team_mean.sum() - np.sum(np.multiply(diff,diff))/100"
   ]
  },
  {
   "cell_type": "code",
   "execution_count": 59,
   "metadata": {},
   "outputs": [],
   "source": [
    "mean_reduced = [] \n",
    "for a_team in team:\n",
    "    mean_reduced.append(mean_reduced_score([a_team]))"
   ]
  },
  {
   "cell_type": "code",
   "execution_count": 60,
   "metadata": {},
   "outputs": [
    {
     "data": {
      "text/plain": [
       "[138.69720000000001,\n",
       " 155.00960000000001,\n",
       " 143.6788,\n",
       " 149.6652,\n",
       " 138.33439999999999,\n",
       " 154.64680000000001,\n",
       " 142.78479999999999,\n",
       " 131.45400000000001,\n",
       " 147.7664,\n",
       " 142.422]"
      ]
     },
     "execution_count": 60,
     "metadata": {},
     "output_type": "execute_result"
    }
   ],
   "source": [
    "mean_reduced"
   ]
  },
  {
   "cell_type": "markdown",
   "metadata": {},
   "source": [
    "Team #1 là team đồng đều & có kết quả cao nhất "
   ]
  },
  {
   "cell_type": "markdown",
   "metadata": {},
   "source": [
    "### Thử lại với data mới "
   ]
  },
  {
   "cell_type": "code",
   "execution_count": 66,
   "metadata": {},
   "outputs": [
    {
     "data": {
      "text/plain": [
       "array([[ 6,  1,  1,  9,  7,  6,  5,  2,  0,  3],\n",
       "       [ 3,  2,  0,  5,  1,  5,  6,  4, 10,  2],\n",
       "       [ 0, 10,  7,  7,  8, 10,  5,  8,  4,  5],\n",
       "       [ 3,  3,  4,  8,  8,  6, 10,  8,  9,  7],\n",
       "       [ 8, 10,  7,  9,  8,  3, 10,  3,  3,  8]])"
      ]
     },
     "execution_count": 66,
     "metadata": {},
     "output_type": "execute_result"
    }
   ],
   "source": [
    "P = np.random.randint(low =0, high=11, size=[k,m])\n",
    "P"
   ]
  },
  {
   "cell_type": "code",
   "execution_count": 67,
   "metadata": {
    "collapsed": true
   },
   "outputs": [],
   "source": [
    "team = []\n",
    "obj_score = []\n",
    "sum_score = []\n",
    "mean_reduced = [] \n",
    "for first in range(k-2):\n",
    "    for(second) in range(first+1,k-1):\n",
    "        for(last) in range(second+1,k):\n",
    "            team.append([first,second,last]) # danh sách team\n",
    "            obj_score.append(objective_max_score([first,second,last]).sum()) # tổng điểm max của team\n",
    "            sum_score.append(P[[first,second,last],:].sum()) # tổng điểm của team\n",
    "            mean_reduced.append(mean_reduced_score([first,second,last]))"
   ]
  },
  {
   "cell_type": "code",
   "execution_count": 68,
   "metadata": {},
   "outputs": [
    {
     "data": {
      "text/plain": [
       "[79, 71, 80, 84, 82, 83, 81, 88, 84, 87]"
      ]
     },
     "execution_count": 68,
     "metadata": {},
     "output_type": "execute_result"
    }
   ],
   "source": [
    "obj_score"
   ]
  },
  {
   "cell_type": "code",
   "execution_count": 69,
   "metadata": {},
   "outputs": [
    {
     "data": {
      "text/plain": [
       "[142, 144, 147, 170, 173, 175, 168, 171, 173, 199]"
      ]
     },
     "execution_count": 69,
     "metadata": {},
     "output_type": "execute_result"
    }
   ],
   "source": [
    "sum_score"
   ]
  },
  {
   "cell_type": "code",
   "execution_count": 70,
   "metadata": {},
   "outputs": [
    {
     "data": {
      "text/plain": [
       "[47.098311111111109,\n",
       " 47.638622222222232,\n",
       " 48.88880000000001,\n",
       " 56.47817777777778,\n",
       " 57.547511111111113,\n",
       " 58.236177777777783,\n",
       " 55.765999999999998,\n",
       " 56.93577777777778,\n",
       " 57.584444444444451,\n",
       " 66.269111111111116]"
      ]
     },
     "execution_count": 70,
     "metadata": {},
     "output_type": "execute_result"
    }
   ],
   "source": [
    "mean_reduced"
   ]
  },
  {
   "cell_type": "code",
   "execution_count": 80,
   "metadata": {},
   "outputs": [
    {
     "name": "stdout",
     "output_type": "stream",
     "text": [
      "[2, 3, 4]  has highest sum score and mean_reduced score\n",
      "[[ 0 10  7  7  8 10  5  8  4  5]\n",
      " [ 3  3  4  8  8  6 10  8  9  7]\n",
      " [ 8 10  7  9  8  3 10  3  3  8]]\n"
     ]
    }
   ],
   "source": [
    "print(team[9],\" has highest sum score and mean_reduced score\")\n",
    "print(P[team[9],:]) # highest sum score and mean_reduced score"
   ]
  },
  {
   "cell_type": "code",
   "execution_count": 81,
   "metadata": {},
   "outputs": [
    {
     "data": {
      "text/plain": [
       "array([[ 8, 10,  7,  9,  8, 10, 10,  8,  9,  8]])"
      ]
     },
     "execution_count": 81,
     "metadata": {},
     "output_type": "execute_result"
    }
   ],
   "source": [
    "objective_max_score(team[9])"
   ]
  },
  {
   "cell_type": "code",
   "execution_count": 84,
   "metadata": {},
   "outputs": [
    {
     "name": "stdout",
     "output_type": "stream",
     "text": [
      "[1, 2, 4]  has highest max_score\n"
     ]
    },
    {
     "data": {
      "text/plain": [
       "array([[ 3,  2,  0,  5,  1,  5,  6,  4, 10,  2],\n",
       "       [ 0, 10,  7,  7,  8, 10,  5,  8,  4,  5],\n",
       "       [ 8, 10,  7,  9,  8,  3, 10,  3,  3,  8]])"
      ]
     },
     "execution_count": 84,
     "metadata": {},
     "output_type": "execute_result"
    }
   ],
   "source": [
    "print(team[7], \" has highest max_score\")\n",
    "P[team[7],:]# highest max_score "
   ]
  },
  {
   "cell_type": "code",
   "execution_count": 83,
   "metadata": {},
   "outputs": [
    {
     "data": {
      "text/plain": [
       "array([[ 8, 10,  7,  9,  8, 10, 10,  8, 10,  8]])"
      ]
     },
     "execution_count": 83,
     "metadata": {},
     "output_type": "execute_result"
    }
   ],
   "source": [
    "objective_max_score(team[7])"
   ]
  },
  {
   "cell_type": "code",
   "execution_count": 86,
   "metadata": {},
   "outputs": [
    {
     "name": "stdout",
     "output_type": "stream",
     "text": [
      "Student 1 :  [ 3  2  0  5  1  5  6  4 10  2] \n",
      "Student 3 :  [ 3  3  4  8  8  6 10  8  9  7]\n"
     ]
    }
   ],
   "source": [
    "print(\"Student 1 : \",P[1,:],\"\\nStudent 3 : \",P[3,:])"
   ]
  },
  {
   "cell_type": "markdown",
   "metadata": {},
   "source": [
    "3 students nên chọn là  2 3 4"
   ]
  },
  {
   "cell_type": "code",
   "execution_count": null,
   "metadata": {
    "collapsed": true
   },
   "outputs": [],
   "source": []
  }
 ],
 "metadata": {
  "kernelspec": {
   "display_name": "Python 3",
   "language": "python",
   "name": "python3"
  },
  "language_info": {
   "codemirror_mode": {
    "name": "ipython",
    "version": 3
   },
   "file_extension": ".py",
   "mimetype": "text/x-python",
   "name": "python",
   "nbconvert_exporter": "python",
   "pygments_lexer": "ipython3",
   "version": "3.6.2"
  }
 },
 "nbformat": 4,
 "nbformat_minor": 2
}
