{
 "cells": [
  {
   "cell_type": "code",
   "execution_count": 1,
   "metadata": {},
   "outputs": [],
   "source": [
    "import numpy as np\n",
    "import matplotlib.pyplot as plt\n",
    "%matplotlib inline\n",
    "import seaborn as sns\n",
    "sns.set(color_codes=True)\n",
    "import datetime\n",
    "import random\n",
    "import copy"
   ]
  },
  {
   "cell_type": "code",
   "execution_count": 2,
   "metadata": {},
   "outputs": [
    {
     "data": {
      "text/plain": [
       "array([30, 29, 30, 29, 30, 29, 26, 29, 30, 28, 28, 30, 28, 28, 30, 28, 28,\n",
       "       30, 30, 29])"
      ]
     },
     "execution_count": 2,
     "metadata": {},
     "output_type": "execute_result"
    }
   ],
   "source": [
    "# init data\n",
    "k = 30 # no students\n",
    "n = 10\n",
    "m = 20 # no problems type\n",
    "size = 3 # team size\n",
    "\n",
    "P = np.random.randint(low =0, high=11, size=[k,m])\n",
    "\n",
    "E = np.sort(P,axis = 0)[k-size:k].sum(axis=0)\n",
    "E"
   ]
  },
  {
   "cell_type": "code",
   "execution_count": 3,
   "metadata": {},
   "outputs": [],
   "source": [
    "class Individual :\n",
    "    team_indices = None\n",
    "    fitness = None\n",
    "  \n",
    "    def __init__(self,k,m,size,team_indices = None):\n",
    "        if(team_indices is None):\n",
    "            self.init_team(k,m,size)\n",
    "        else :\n",
    "            self.team_indices = team_indices\n",
    "            self.fitness = 0\n",
    "  \n",
    "    def init_team(self,k,m,size):\n",
    "        self.team_indices = sorted(random.sample(range(k),size))\n",
    "        self.fitness = 0\n",
    "  \n",
    "    def calculate_fitness(self,P,E):\n",
    "        team_vector = P[self.team_indices].sum(axis = 0)\n",
    "        self.fitness= np.linalg.norm(team_vector - E)\n",
    "        return self.fitness\n",
    "    "
   ]
  },
  {
   "cell_type": "code",
   "execution_count": 4,
   "metadata": {},
   "outputs": [],
   "source": [
    "class Generation:\n",
    "    k= None\n",
    "    m = None\n",
    "    size = None\n",
    "    P = None\n",
    "    E = None\n",
    "  \n",
    "    individuals = None # list individuals\n",
    "  \n",
    "    def __init__(self,k,m,size,P,E,population_size,individuals = None):\n",
    "        self.k = k\n",
    "        self.m = m\n",
    "        self.size = size\n",
    "        self.P = P\n",
    "        self.E = E\n",
    "        if individuals is None :\n",
    "            self.individuals = []\n",
    "            for i in range(population_size):\n",
    "                a = Individual(self.k,self.m,self.size)\n",
    "                self.individuals.append(a)\n",
    "        else :\n",
    "            self.individuals = individuals\n",
    "        self.calculate_all_fitness()\n",
    "    \n",
    "    def calculate_all_fitness(self):\n",
    "        for idv in self.individuals:\n",
    "            idv.calculate_fitness(self.P,self.E)\n",
    "      \n",
    "    def get_best(self):\n",
    "        # return best individual in generation\n",
    "        self.calculate_all_fitness()\n",
    "        self.individuals.sort( key=lambda x: x.fitness)\n",
    "        sorted_list = sorted(self.individuals, key=lambda x: x.fitness)\n",
    "        return sorted_list[0]\n",
    "    \n",
    "    def inherite(self,parent):\n",
    "        while True:\n",
    "            a = random.randint(0,k-1)\n",
    "            if not a in parent.team_indices:\n",
    "                break\n",
    "        child_indices = parent.team_indices[:] # copy to save list\n",
    "        swap_index = random.randint(0,self.size-1)\n",
    "        child_indices[swap_index] = a\n",
    "        child_indices.sort()\n",
    "        i = Individual(self.k,self.m,self.size,sorted(child_indices))\n",
    "        return i\n",
    "    \n",
    "    def generate_next_gen(self,population_size,inherite_rate):\n",
    "        # return list individuals\n",
    "        best = self.get_best()\n",
    "        parent = copy.copy(best) # save the best\n",
    "        # print(parent.team_indices,\" \",parent.fitness)\n",
    "        next_generation = []\n",
    "        next_generation.append(parent)\n",
    "        i = 1\n",
    "        inherite_num = int(population_size * inherite_rate)\n",
    "        while(i<population_size):\n",
    "            while(i<inherite_num):\n",
    "                next_generation.append(self.inherite(parent))\n",
    "                i+=1\n",
    "            # after inheritance phase, append random member\n",
    "            next_generation.append(Individual(self.k,self.m,self.size)) #random member\n",
    "            i+=1\n",
    "        return Generation(self.k,self.m,self.size,self.P,self.E,population_size,next_generation)\n",
    "    \n",
    "    \n"
   ]
  },
  {
   "cell_type": "code",
   "execution_count": 20,
   "metadata": {},
   "outputs": [],
   "source": [
    "class DemoGA:\n",
    "    generations = []\n",
    "    current_generation = None\n",
    "    population_size = 20\n",
    "    inherite_rate = 0.8\n",
    "    P = None\n",
    "    E = None\n",
    "    def __init__(self,k,m,size,P,E):\n",
    "        self.current_generation = Generation(k,m,size,P,E,self.population_size)\n",
    "        self.generations.append(self.current_generation)\n",
    "        self.k = k\n",
    "        self.m = m\n",
    "        self.size = size\n",
    "        self.P = P\n",
    "        self.E = E\n",
    "        self.generations = []\n",
    "    \n",
    "    def train(self, optimal_distance):\n",
    "        i = 0\n",
    "        while True:\n",
    "            best_team = self.current_generation.get_best()\n",
    "            best_fitness = best_team.fitness\n",
    "            print(\"Generation #\",i,\" \",best_team.team_indices, \" with distance = \", best_fitness)\n",
    "            \n",
    "            \n",
    "            if(best_fitness <= optimal_distance):\n",
    "                break\n",
    "            # break when fitness not change in 20 generation\n",
    "            else :\n",
    "                self.current_generation = self.current_generation.generate_next_gen(self.population_size,self.inherite_rate)\n",
    "                self.generations.append(self.current_generation )\n",
    "                \n",
    "            if(i > 10):\n",
    "                if(self.generations[i].get_best().fitness == self.generations[i-20].get_best().fitness):\n",
    "                    break\n",
    "            i+=1\n",
    "        print(\"Total generations :\", len(self.generations))\n",
    "        self.plot_result()\n",
    "    \n",
    "    def plot_result(self):\n",
    "        no_gen = range(len(self.generations))\n",
    "        best_dis = []\n",
    "        for i in no_gen:\n",
    "            best_dis.append(self.generations[i].get_best().fitness)\n",
    "        plt.plot(no_gen, best_dis,'b')\n",
    "        plt.xlabel('Generation')\n",
    "        plt.ylabel('Best fitness')"
   ]
  },
  {
   "cell_type": "code",
   "execution_count": 21,
   "metadata": {},
   "outputs": [],
   "source": [
    "Model = DemoGA(k,m,size,P,E)"
   ]
  },
  {
   "cell_type": "code",
   "execution_count": 22,
   "metadata": {},
   "outputs": [
    {
     "name": "stdout",
     "output_type": "stream",
     "text": [
      "Generation # 0   [25, 26, 27]  with distance =  57.3498038358\n",
      "Generation # 1   [19, 26, 27]  with distance =  52.4785670536\n",
      "Generation # 2   [19, 26, 27]  with distance =  52.4785670536\n",
      "Generation # 3   [0, 19, 26]  with distance =  48.9080770425\n",
      "Generation # 4   [9, 19, 26]  with distance =  48.1248376621\n",
      "Generation # 5   [9, 19, 26]  with distance =  48.1248376621\n",
      "Generation # 6   [9, 19, 26]  with distance =  48.1248376621\n",
      "Generation # 7   [9, 19, 26]  with distance =  48.1248376621\n",
      "Generation # 8   [9, 19, 26]  with distance =  48.1248376621\n",
      "Generation # 9   [9, 19, 26]  with distance =  48.1248376621\n",
      "Generation # 10   [19, 20, 26]  with distance =  47.2334627145\n",
      "Generation # 11   [19, 20, 26]  with distance =  47.2334627145\n",
      "Generation # 12   [19, 20, 26]  with distance =  47.2334627145\n",
      "Generation # 13   [19, 20, 26]  with distance =  47.2334627145\n",
      "Generation # 14   [19, 20, 26]  with distance =  47.2334627145\n",
      "Total generations : 15\n"
     ]
    },
    {
     "data": {
      "image/png": "[encoded data removed]",
      "text/plain": [
       "<matplotlib.figure.Figure at 0x15e91bae710>"
      ]
     },
     "metadata": {},
     "output_type": "display_data"
    }
   ],
   "source": [
    "Model.train(optimal_distance=0)"
   ]
  },
  {
   "cell_type": "code",
   "execution_count": 23,
   "metadata": {},
   "outputs": [],
   "source": [
    "# new data\n",
    "k = 30 # no students\n",
    "n = 10\n",
    "m = 20 # no problems type\n",
    "size = 3 # team size\n",
    "\n",
    "P = np.random.randint(low =0, high=11, size=[k,m])\n",
    "\n",
    "E = np.sort(P,axis = 0)[k-size:k].sum(axis=0)"
   ]
  },
  {
   "cell_type": "code",
   "execution_count": 24,
   "metadata": {},
   "outputs": [
    {
     "name": "stdout",
     "output_type": "stream",
     "text": [
      "Generation # 0   [11, 16, 26]  with distance =  57.5934023999\n",
      "Generation # 1   [11, 12, 16]  with distance =  57.4804314528\n",
      "Generation # 2   [19, 23, 28]  with distance =  51.0294032887\n",
      "Generation # 3   [16, 19, 28]  with distance =  47.77028365\n",
      "Generation # 4   [16, 19, 28]  with distance =  47.77028365\n",
      "Generation # 5   [16, 19, 28]  with distance =  47.77028365\n",
      "Generation # 6   [16, 19, 28]  with distance =  47.77028365\n",
      "Generation # 7   [16, 19, 28]  with distance =  47.77028365\n",
      "Generation # 8   [16, 19, 28]  with distance =  47.77028365\n",
      "Generation # 9   [16, 19, 28]  with distance =  47.77028365\n",
      "Generation # 10   [16, 19, 28]  with distance =  47.77028365\n",
      "Generation # 11   [16, 19, 28]  with distance =  47.77028365\n",
      "Total generations : 12\n"
     ]
    },
    {
     "data": {
      "image/png": "[encoded data removed]",
      "text/plain": [
       "<matplotlib.figure.Figure at 0x15e9169a2b0>"
      ]
     },
     "metadata": {},
     "output_type": "display_data"
    }
   ],
   "source": [
    "Model = DemoGA(k,m,size,P,E)\n",
    "Model.train(optimal_distance=0)"
   ]
  },
  {
   "cell_type": "code",
   "execution_count": 26,
   "metadata": {},
   "outputs": [
    {
     "name": "stdout",
     "output_type": "stream",
     "text": [
      "Best team is  [16, 19, 28]  with distance :  47.77028365\n"
     ]
    }
   ],
   "source": [
    "# Check answer\n",
    "def distance(a_team):\n",
    "    team_vector = P[a_team].sum(axis = 0)\n",
    "    return np.linalg.norm(team_vector - E)\n",
    "\n",
    "def check_answer(P,E,k):\n",
    "    team = []\n",
    "    dis = []\n",
    "    for first in range(k-2):\n",
    "        for(second) in range(first+1,k-1):\n",
    "            for(last) in range(second+1,k):\n",
    "                a_team = [first,second,last]\n",
    "                team.append(a_team)\n",
    "                dis.append(distance(a_team))\n",
    "    best_team_index = dis.index(min(dis))\n",
    "    print('Best team is ',team[best_team_index], \" with distance : \",dis[best_team_index])\n",
    "\n",
    "            \n",
    "check_answer(P,E,k)"
   ]
  },
  {
   "cell_type": "code",
   "execution_count": null,
   "metadata": {},
   "outputs": [],
   "source": []
  }
 ],
 "metadata": {
  "kernelspec": {
   "display_name": "Python 3",
   "language": "python",
   "name": "python3"
  },
  "language_info": {
   "codemirror_mode": {
    "name": "ipython",
    "version": 3
   },
   "file_extension": ".py",
   "mimetype": "text/x-python",
   "name": "python",
   "nbconvert_exporter": "python",
   "pygments_lexer": "ipython3",
   "version": "3.6.2"
  }
 },
 "nbformat": 4,
 "nbformat_minor": 2
}
