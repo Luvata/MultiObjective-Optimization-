{
 "cells": [
  {
   "cell_type": "markdown",
   "metadata": {},
   "source": [
    "# DCA"
   ]
  },
  {
   "cell_type": "code",
   "execution_count": 1,
   "metadata": {
    "collapsed": true
   },
   "outputs": [],
   "source": [
    "import numpy as np\n",
    "import cplex\n",
    "\n",
    "\n",
    "k = 30\n",
    "m = 50\n",
    "R = np.random.uniform(low = 5,high=10,size=(k,m))\n",
    "h = 3\n",
    "\n",
    "E = np.sort(R,axis=0)\n",
    "E = E[k-3:]\n",
    "E = np.sum(E,axis=0)\n",
    "\n",
    "def objective(E,X):\n",
    "  return np.linalg.norm(E-X.dot(R))"
   ]
  },
  {
   "cell_type": "code",
   "execution_count": 2,
   "metadata": {
    "collapsed": true
   },
   "outputs": [],
   "source": [
    "def make_team_vector(indices):\n",
    "  v = np.zeros(k)\n",
    "  v[indices] = 1\n",
    "  return v"
   ]
  },
  {
   "cell_type": "markdown",
   "metadata": {},
   "source": [
    "### Giải bằng greedy tìm global"
   ]
  },
  {
   "cell_type": "code",
   "execution_count": 3,
   "metadata": {},
   "outputs": [
    {
     "name": "stdout",
     "output_type": "stream",
     "text": [
      "best team is :  [3, 21, 26]  with distance =  42.25652484280789\n"
     ]
    }
   ],
   "source": [
    "# brute force find global optima :\n",
    "best_team = [0,1,2]\n",
    "lowest_distance = 2e8\n",
    "for first in range(k-2):\n",
    "  for second in range(first,k-1):\n",
    "    for third in range(second,k):\n",
    "      team = np.zeros(k)\n",
    "      team[[first,second,third]] = 1 # vector X_i [0,...1...1...1..0]\n",
    "      d = objective(E,team) # tính khoảng cách \n",
    "      if( d < lowest_distance):\n",
    "        best_team = [first,second,third]\n",
    "        lowest_distance = d\n",
    "        \n",
    "print('best team is : ',best_team,' with distance = ',lowest_distance)"
   ]
  },
  {
   "cell_type": "markdown",
   "metadata": {},
   "source": [
    "### Giải G(x) với solver :"
   ]
  },
  {
   "cell_type": "code",
   "execution_count": 4,
   "metadata": {},
   "outputs": [
    {
     "name": "stdout",
     "output_type": "stream",
     "text": [
      "CPXPARAM_Read_DataCheck                          1\n",
      "Number of nonzeros in lower triangle of Q = 435\n",
      "Using Approximate Minimum Degree ordering\n",
      "Total time for automatic ordering = 0.02 sec. (0.01 ticks)\n",
      "Summary statistics for factor of Q:\n",
      "  Rows in Factor            = 30\n",
      "  Integer space required    = 30\n",
      "  Total non-zeros in factor = 465\n",
      "  Total FP ops to factor    = 9455\n",
      "Tried aggregator 1 time.\n",
      "QP Presolve added 0 rows and 30 columns.\n",
      "Reduced QP has 31 rows, 60 columns, and 525 nonzeros.\n",
      "Reduced QP objective Q matrix has 30 nonzeros.\n",
      "Presolve time = 0.03 sec. (0.07 ticks)\n",
      "Parallel mode: using up to 4 threads for barrier.\n",
      "Number of nonzeros in lower triangle of A*A' = 465\n",
      "Using Approximate Minimum Degree ordering\n",
      "Total time for automatic ordering = 0.00 sec. (0.03 ticks)\n",
      "Summary statistics for Cholesky factor:\n",
      "  Threads                   = 4\n",
      "  Rows in Factor            = 31\n",
      "  Integer space required    = 31\n",
      "  Total non-zeros in factor = 496\n",
      "  Total FP ops to factor    = 10416\n",
      " Itn      Primal Obj        Dual Obj  Prim Inf Upper Inf  Dual Inf          \n",
      "   0  -6.3363095e+05  -1.3041330e+06  1.42e+02  3.00e+01  1.07e+04\n",
      "   1  -5.2152709e+04  -1.1680641e+05  2.06e-14  0.00e+00  2.58e-10\n",
      "   2  -5.2183779e+04  -5.4639361e+04  2.97e-15  6.66e-16  2.40e-10\n",
      "   3  -5.3142954e+04  -5.4939110e+04  3.87e-15  2.22e-16  1.42e-10\n",
      "   4  -5.3473311e+04  -5.4029840e+04  4.05e-15  1.05e-15  1.30e-10\n",
      "   5  -5.3668362e+04  -5.3701300e+04  3.72e-15  3.61e-16  1.19e-10\n",
      "   6  -5.3682749e+04  -5.3683420e+04  2.47e-15  5.13e-16  1.57e-10\n",
      "   7  -5.3683022e+04  -5.3683034e+04  2.07e-15  5.71e-16  1.50e-10\n",
      "   8  -5.3683028e+04  -5.3683028e+04  1.51e-15  1.01e-15  1.90e-10\n",
      "Barrier time = 0.08 sec. (0.37 ticks)\n",
      "\n",
      "Total time on 4 threads = 0.08 sec. (0.37 ticks)\n"
     ]
    }
   ],
   "source": [
    "ub = [1.0] *k # bound của  0 <= x <=1 \n",
    "lb = [0.0] *k \n",
    "A = R.dot(R.T)\n",
    "names = ['x'+str(i) for i in range(k)]\n",
    "linexp = cplex.SparsePair(ind=names,val=[1.0] *k)\n",
    "row = [i for i in range(k)]\n",
    "qmat = [[row,A[i]] for i in range(k)] # Hệ số A để truyền vào cplex \n",
    "first_part = E.dot(R.T) # Phần E.dot (R.T)\n",
    "\n",
    "\n",
    "b = -2 * first_part # không gồm phần tau * xl \n",
    "\n",
    "p = cplex.Cplex() # make problem\n",
    "\n",
    "p.objective.set_sense(p.objective.sense.minimize)\n",
    "\n",
    "p.variables.add(obj=b,ub=ub,lb=lb,names=names) #  0 <= x_i <=1\n",
    "\n",
    "p.linear_constraints.add(lin_expr=[linexp], \n",
    "                       rhs=[3.0],senses=\"E\") # x0+x1 +... + xk = 3\n",
    "p.objective.set_quadratic(qmat) # set hệ số cho A\n",
    "\n",
    "p.solve()"
   ]
  },
  {
   "cell_type": "code",
   "execution_count": 5,
   "metadata": {},
   "outputs": [
    {
     "name": "stdout",
     "output_type": "stream",
     "text": [
      "(array([ 3, 10, 26], dtype=int64),)\n",
      "42.493925644146394\n"
     ]
    }
   ],
   "source": [
    "team = np.array(p.solution.get_values())\n",
    "team = np.round(team).nonzero()\n",
    "print(team)\n",
    "print(objective(E,make_team_vector(team)))"
   ]
  },
  {
   "cell_type": "markdown",
   "metadata": {},
   "source": [
    "Solver có khi giải được global, có khi lại ra local"
   ]
  },
  {
   "cell_type": "markdown",
   "metadata": {},
   "source": [
    "### Giải bằng G(x) - h(x) với solver,  $X_i \\in R$"
   ]
  },
  {
   "cell_type": "code",
   "execution_count": 6,
   "metadata": {
    "collapsed": true
   },
   "outputs": [],
   "source": [
    "def make_problem(b):\n",
    "  p = cplex.Cplex() # Update b \n",
    "  p.objective.set_sense(p.objective.sense.minimize)\n",
    "  p.variables.add(obj=b,ub=ub,lb=lb,names=names)\n",
    "  p.linear_constraints.add(lin_expr=[linexp],\n",
    "                         rhs=[3.0],senses=\"E\")\n",
    "  p.objective.set_quadratic(qmat)\n",
    "  return p"
   ]
  },
  {
   "cell_type": "code",
   "execution_count": 7,
   "metadata": {
    "collapsed": true
   },
   "outputs": [],
   "source": [
    "list_tau = [0.1,1,10,20,30,50,100,1000,10000]"
   ]
  },
  {
   "cell_type": "code",
   "execution_count": null,
   "metadata": {},
   "outputs": [],
   "source": [
    "mat_result = {}\n",
    "X_0 = np.zeros(k) \n",
    "\n",
    "for tau in list_tau:\n",
    "  dis = []\n",
    "  list_teams = []\n",
    "  b_0 = E.dot(R.T) - tau *(2*X_0 - 1)\n",
    "  p = make_problem(b_0)  \n",
    "  p.solve()\n",
    "  l = 0\n",
    "  while True:\n",
    "    result = p.solution.get_values()\n",
    "    team = np.array(result)\n",
    "    team = np.round(team)\n",
    "    list_teams.append(team.nonzero())\n",
    "    dist = objective(E,team)\n",
    "    dis.append(dist)\n",
    "    if l > 1 :\n",
    "      if(dist > dis[l-1]):\n",
    "        print(str(l),'#######InCorrect######') # sai vì dist bắt buộc phải giảm \n",
    "        break\n",
    "      else:\n",
    "        if l > 3:\n",
    "          if(dist == dis[l-3]):\n",
    "            break # break khi distance không đổi sau 3 vòng \n",
    "    new_b = -2 * first_part - tau * (2*team - 1) # update b\n",
    "    p = make_problem(new_b)\n",
    "    p.solve()\n",
    "    l+=1\n",
    "  mat_result[tau] = list_teams"
   ]
  },
  {
   "cell_type": "code",
   "execution_count": 9,
   "metadata": {},
   "outputs": [
    {
     "data": {
      "text/plain": [
       "{0.1: [(array([ 0,  4, 25], dtype=int64),),\n",
       "  (array([ 3, 10, 26], dtype=int64),),\n",
       "  (array([ 3, 10, 26], dtype=int64),),\n",
       "  (array([ 3, 10, 26], dtype=int64),),\n",
       "  (array([ 3, 10, 26], dtype=int64),)],\n",
       " 1: [(array([ 0,  4, 25], dtype=int64),),\n",
       "  (array([ 3, 10, 26], dtype=int64),),\n",
       "  (array([ 3, 10, 26], dtype=int64),),\n",
       "  (array([ 3, 10, 26], dtype=int64),),\n",
       "  (array([ 3, 10, 26], dtype=int64),)],\n",
       " 10: [(array([ 0,  4, 25], dtype=int64),),\n",
       "  (array([ 3, 10, 26], dtype=int64),),\n",
       "  (array([ 3, 10, 26], dtype=int64),),\n",
       "  (array([ 3, 10, 26], dtype=int64),),\n",
       "  (array([ 3, 10, 26], dtype=int64),)],\n",
       " 20: [(array([ 0,  4, 25], dtype=int64),),\n",
       "  (array([ 3, 10, 26], dtype=int64),),\n",
       "  (array([ 3, 10, 26], dtype=int64),),\n",
       "  (array([ 3, 10, 26], dtype=int64),),\n",
       "  (array([ 3, 10, 26], dtype=int64),)],\n",
       " 30: [(array([ 0,  4, 25], dtype=int64),),\n",
       "  (array([ 3, 10, 26], dtype=int64),),\n",
       "  (array([ 3, 10, 26], dtype=int64),),\n",
       "  (array([ 3, 10, 26], dtype=int64),),\n",
       "  (array([ 3, 10, 26], dtype=int64),)],\n",
       " 50: [(array([ 0,  4, 25], dtype=int64),),\n",
       "  (array([ 3, 10, 26], dtype=int64),),\n",
       "  (array([ 3, 10, 26], dtype=int64),),\n",
       "  (array([ 3, 10, 26], dtype=int64),),\n",
       "  (array([ 3, 10, 26], dtype=int64),)],\n",
       " 100: [(array([ 0,  4, 25], dtype=int64),),\n",
       "  (array([ 3, 10, 26], dtype=int64),),\n",
       "  (array([ 3, 10, 26], dtype=int64),),\n",
       "  (array([ 3, 10, 26], dtype=int64),),\n",
       "  (array([ 3, 10, 26], dtype=int64),)],\n",
       " 1000: [(array([ 0,  4, 25], dtype=int64),),\n",
       "  (array([ 0,  4, 25], dtype=int64),),\n",
       "  (array([ 0,  4, 25], dtype=int64),),\n",
       "  (array([ 0,  4, 25], dtype=int64),),\n",
       "  (array([ 0,  4, 25], dtype=int64),)],\n",
       " 10000: [(array([ 0,  4, 25], dtype=int64),),\n",
       "  (array([ 0,  4, 25], dtype=int64),),\n",
       "  (array([ 0,  4, 25], dtype=int64),),\n",
       "  (array([ 0,  4, 25], dtype=int64),),\n",
       "  (array([ 0,  4, 25], dtype=int64),)]}"
      ]
     },
     "execution_count": 9,
     "metadata": {},
     "output_type": "execute_result"
    }
   ],
   "source": [
    "mat_result"
   ]
  },
  {
   "cell_type": "code",
   "execution_count": 10,
   "metadata": {},
   "outputs": [
    {
     "data": {
      "text/plain": [
       "46.66714757002837"
      ]
     },
     "execution_count": 10,
     "metadata": {},
     "output_type": "execute_result"
    }
   ],
   "source": [
    "objective(E,make_team_vector([13,18,26]))"
   ]
  },
  {
   "cell_type": "code",
   "execution_count": 11,
   "metadata": {},
   "outputs": [
    {
     "data": {
      "text/plain": [
       "50.90685274829679"
      ]
     },
     "execution_count": 11,
     "metadata": {},
     "output_type": "execute_result"
    }
   ],
   "source": [
    "objective(E,make_team_vector([12,15,23]))"
   ]
  },
  {
   "cell_type": "markdown",
   "metadata": {},
   "source": [
    "### Giải G(x) - H(x), điều kiện $X_i \\in N$"
   ]
  },
  {
   "cell_type": "code",
   "execution_count": 12,
   "metadata": {
    "collapsed": true
   },
   "outputs": [],
   "source": [
    "def make_problem2(b):\n",
    "  p = cplex.Cplex() # Update b \n",
    "  p.objective.set_sense(p.objective.sense.minimize)\n",
    "  p.variables.add(obj=b,ub=ub,lb=lb,names=names,types=['I']*k) # int\n",
    "  p.linear_constraints.add(lin_expr=[linexp],\n",
    "                         rhs=[3.0],senses=\"E\")\n",
    "  p.objective.set_quadratic(qmat)\n",
    "  return p"
   ]
  },
  {
   "cell_type": "code",
   "execution_count": null,
   "metadata": {},
   "outputs": [],
   "source": [
    "mat_result = {}\n",
    "X_0 = np.zeros(k) \n",
    "\n",
    "for tau in list_tau:\n",
    "  dis = []\n",
    "  list_teams = []\n",
    "  b_0 = E.dot(R.T) - tau *(2*X_0 - 1)\n",
    "  p = make_problem2(b_0)  \n",
    "  p.solve()\n",
    "  l = 0\n",
    "  while True:\n",
    "    result = p.solution.get_values()\n",
    "    team = np.array(result)\n",
    "    team = np.round(team)\n",
    "    list_teams.append(team.nonzero())\n",
    "    dist = objective(E,team)\n",
    "    dis.append(dist)\n",
    "    if l > 1 :\n",
    "      if(dist > dis[l-1]):\n",
    "        print(str(l),'#######InCorrect######') # sai vì dist bắt buộc phải giảm \n",
    "        break\n",
    "      else:\n",
    "        if l > 3:\n",
    "          if(dist == dis[l-3]):\n",
    "            break\n",
    "    new_b = -2 * first_part - tau * (2*team - 1) # update b\n",
    "    p = make_problem2(new_b)\n",
    "    p.solve()\n",
    "    l+=1\n",
    "  mat_result[tau] = list_teams"
   ]
  },
  {
   "cell_type": "code",
   "execution_count": 14,
   "metadata": {},
   "outputs": [
    {
     "data": {
      "text/plain": [
       "{0.1: [(array([ 0,  4, 25], dtype=int64),),\n",
       "  (array([ 3, 10, 26], dtype=int64),),\n",
       "  (array([ 3, 10, 26], dtype=int64),),\n",
       "  (array([ 3, 10, 26], dtype=int64),),\n",
       "  (array([ 3, 10, 26], dtype=int64),)],\n",
       " 1: [(array([ 0,  4, 25], dtype=int64),),\n",
       "  (array([ 3, 10, 26], dtype=int64),),\n",
       "  (array([ 3, 10, 26], dtype=int64),),\n",
       "  (array([ 3, 10, 26], dtype=int64),),\n",
       "  (array([ 3, 10, 26], dtype=int64),)],\n",
       " 10: [(array([ 0,  4, 25], dtype=int64),),\n",
       "  (array([ 3, 10, 26], dtype=int64),),\n",
       "  (array([ 3, 10, 26], dtype=int64),),\n",
       "  (array([ 3, 10, 26], dtype=int64),),\n",
       "  (array([ 3, 10, 26], dtype=int64),)],\n",
       " 20: [(array([ 0,  4, 25], dtype=int64),),\n",
       "  (array([ 3, 10, 26], dtype=int64),),\n",
       "  (array([ 3, 10, 26], dtype=int64),),\n",
       "  (array([ 3, 10, 26], dtype=int64),),\n",
       "  (array([ 3, 10, 26], dtype=int64),)],\n",
       " 30: [(array([ 0,  4, 25], dtype=int64),),\n",
       "  (array([ 3, 10, 26], dtype=int64),),\n",
       "  (array([ 3, 10, 26], dtype=int64),),\n",
       "  (array([ 3, 10, 26], dtype=int64),),\n",
       "  (array([ 3, 10, 26], dtype=int64),)],\n",
       " 50: [(array([ 0,  4, 25], dtype=int64),),\n",
       "  (array([ 3, 10, 26], dtype=int64),),\n",
       "  (array([ 3, 10, 26], dtype=int64),),\n",
       "  (array([ 3, 10, 26], dtype=int64),),\n",
       "  (array([ 3, 10, 26], dtype=int64),)],\n",
       " 100: [(array([ 0,  4, 25], dtype=int64),),\n",
       "  (array([ 3, 10, 26], dtype=int64),),\n",
       "  (array([ 3, 10, 26], dtype=int64),),\n",
       "  (array([ 3, 10, 26], dtype=int64),),\n",
       "  (array([ 3, 10, 26], dtype=int64),)],\n",
       " 1000: [(array([ 0,  4, 25], dtype=int64),),\n",
       "  (array([ 0,  4, 25], dtype=int64),),\n",
       "  (array([ 0,  4, 25], dtype=int64),),\n",
       "  (array([ 0,  4, 25], dtype=int64),),\n",
       "  (array([ 0,  4, 25], dtype=int64),)],\n",
       " 10000: [(array([ 0,  4, 25], dtype=int64),),\n",
       "  (array([ 0,  4, 25], dtype=int64),),\n",
       "  (array([ 0,  4, 25], dtype=int64),),\n",
       "  (array([ 0,  4, 25], dtype=int64),),\n",
       "  (array([ 0,  4, 25], dtype=int64),)]}"
      ]
     },
     "execution_count": 14,
     "metadata": {},
     "output_type": "execute_result"
    }
   ],
   "source": [
    "mat_result"
   ]
  },
  {
   "cell_type": "markdown",
   "metadata": {},
   "source": [
    "## Nhận xét : \n",
    "- Solver giải G(x) và DCA G(x)-h(x) đều ra local optima, chưa phải global\n",
    "- Khi $\\tau$ lớn, G(X) không có ý nghĩa "
   ]
  },
  {
   "cell_type": "code",
   "execution_count": null,
   "metadata": {
    "collapsed": true
   },
   "outputs": [],
   "source": []
  }
 ],
 "metadata": {
  "kernelspec": {
   "display_name": "Python 3",
   "language": "python",
   "name": "python3"
  },
  "language_info": {
   "codemirror_mode": {
    "name": "ipython",
    "version": 3
   },
   "file_extension": ".py",
   "mimetype": "text/x-python",
   "name": "python",
   "nbconvert_exporter": "python",
   "pygments_lexer": "ipython3",
   "version": "3.6.2"
  }
 },
 "nbformat": 4,
 "nbformat_minor": 2
}
