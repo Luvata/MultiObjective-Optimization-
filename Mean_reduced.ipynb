{
 "cells": [
  {
   "cell_type": "markdown",
   "metadata": {},
   "source": [
    "# One objective"
   ]
  },
  {
   "cell_type": "code",
   "execution_count": 1,
   "metadata": {
    "collapsed": true
   },
   "outputs": [],
   "source": [
    "import numpy as np\n",
    "import matplotlib.pyplot as plt\n",
    "%matplotlib inline\n",
    "import seaborn as sns\n",
    "sns.set(color_codes=True)"
   ]
  },
  {
   "cell_type": "markdown",
   "metadata": {},
   "source": [
    "## Ta sẽ quy về 1 objective, thử implements với greedy search và so sánh kết quả "
   ]
  },
  {
   "cell_type": "code",
   "execution_count": 2,
   "metadata": {
    "collapsed": true
   },
   "outputs": [],
   "source": [
    "n = 600 # number of problems\n",
    "m = 20 # problem types\n",
    "k = 25 # students\n"
   ]
  },
  {
   "cell_type": "code",
   "execution_count": 3,
   "metadata": {
    "collapsed": true
   },
   "outputs": [],
   "source": [
    "R = np.random.randint(low=0,high=11,dtype='int32',size=[n,k])"
   ]
  },
  {
   "cell_type": "code",
   "execution_count": 4,
   "metadata": {},
   "outputs": [
    {
     "data": {
      "text/plain": [
       "(600, 25)"
      ]
     },
     "execution_count": 4,
     "metadata": {},
     "output_type": "execute_result"
    }
   ],
   "source": [
    "# R là kết quả của k students với n problems\n",
    "R.shape"
   ]
  },
  {
   "cell_type": "code",
   "execution_count": 5,
   "metadata": {
    "collapsed": true
   },
   "outputs": [],
   "source": [
    "# Số bài mỗi dạng : Random bằng cách reo xúc xắc 20 mặt 300 lần. "
   ]
  },
  {
   "cell_type": "code",
   "execution_count": 6,
   "metadata": {
    "collapsed": true
   },
   "outputs": [],
   "source": [
    "number_of_problems = np.random.multinomial(n, [1./m]*m)"
   ]
  },
  {
   "cell_type": "code",
   "execution_count": 7,
   "metadata": {},
   "outputs": [
    {
     "data": {
      "text/plain": [
       "array([40, 21, 30, 36, 26, 33, 30, 32, 28, 24, 33, 31, 24, 29, 29, 35, 28,\n",
       "       33, 34, 24])"
      ]
     },
     "execution_count": 7,
     "metadata": {},
     "output_type": "execute_result"
    }
   ],
   "source": [
    "number_of_problems"
   ]
  },
  {
   "cell_type": "code",
   "execution_count": 8,
   "metadata": {},
   "outputs": [
    {
     "data": {
      "text/plain": [
       "<matplotlib.axes._subplots.AxesSubplot at 0x28b20562cc0>"
      ]
     },
     "execution_count": 8,
     "metadata": {},
     "output_type": "execute_result"
    },
    {
     "data": {
      "image/png": "[encoded data removed]",
      "text/plain": [
       "<matplotlib.figure.Figure at 0x28b1cdec710>"
      ]
     },
     "metadata": {},
     "output_type": "display_data"
    }
   ],
   "source": [
    "sns.distplot(number_of_problems)"
   ]
  },
  {
   "cell_type": "code",
   "execution_count": 9,
   "metadata": {},
   "outputs": [
    {
     "data": {
      "text/plain": [
       "(25, 20)"
      ]
     },
     "execution_count": 9,
     "metadata": {},
     "output_type": "execute_result"
    }
   ],
   "source": [
    "# P : k*m là ma trận điểm số của k student cho m dạng bài \n",
    "P = np.zeros([k,m],dtype='float32') # chưa tính giá trị\n",
    "P.shape"
   ]
  },
  {
   "cell_type": "code",
   "execution_count": 10,
   "metadata": {
    "collapsed": true
   },
   "outputs": [],
   "source": [
    "# Tính tổng điểm của m problem type cho k student\n",
    "start = 0\n",
    "for i in range(m):\n",
    "    quantity = number_of_problems[i]\n",
    "    # print(quantity)\n",
    "    P[:,i] = (R[start:start+quantity, : ].sum(axis=0))/(quantity*10) # Kết quả mỗi dạng max = 1\n",
    "    start+=quantity"
   ]
  },
  {
   "cell_type": "code",
   "execution_count": 11,
   "metadata": {},
   "outputs": [
    {
     "name": "stdout",
     "output_type": "stream",
     "text": [
      "Result of student i = 5 :\n",
      "[ 0.51249999  0.48571429  0.52333331  0.49166667  0.43461537  0.45151514\n",
      "  0.52333331  0.58437502  0.40357143  0.40416667  0.55151516  0.55806452\n",
      "  0.34583333  0.44482759  0.40344828  0.58857143  0.5535714   0.56060606\n",
      "  0.44705883  0.51249999]\n",
      "student i = 5 performed best at problems type # 15 with score =  0.588571\n"
     ]
    }
   ],
   "source": [
    "# Kết quả của students i = 5\n",
    "print(\"Result of student i = 5 :\")\n",
    "print(P[5,:])\n",
    "print(\"student i = 5 performed best at problems type #\", np.argmax(P[5,:]),\"with score = \", np.amax(P[5,:]) )"
   ]
  },
  {
   "cell_type": "code",
   "execution_count": 12,
   "metadata": {
    "collapsed": true
   },
   "outputs": [],
   "source": [
    "# Tìm problems type tốt nhất k student\n",
    "Best_perform_distribution = np.zeros(k, dtype='int32') "
   ]
  },
  {
   "cell_type": "code",
   "execution_count": 13,
   "metadata": {},
   "outputs": [
    {
     "data": {
      "text/plain": [
       "array([ 8,  7,  4,  7, 14, 15, 12,  8, 10,  1,  2,  1,  8, 15,  9,  0, 18,\n",
       "       18, 15,  5, 15,  1,  3,  7,  2], dtype=int64)"
      ]
     },
     "execution_count": 13,
     "metadata": {},
     "output_type": "execute_result"
    }
   ],
   "source": [
    "Best_perform_distribution = np.argmax(P, axis=1)\n",
    "Best_perform_distribution"
   ]
  },
  {
   "cell_type": "code",
   "execution_count": 14,
   "metadata": {},
   "outputs": [
    {
     "data": {
      "text/plain": [
       "(array([ 1.,  3.,  2.,  1.,  1.,  1.,  0.,  3.,  3.,  1.,  1.,  0.,  1.,\n",
       "         0.,  1.,  4.,  0.,  0.,  2.]),\n",
       " array([ -0.5,   0.5,   1.5,   2.5,   3.5,   4.5,   5.5,   6.5,   7.5,\n",
       "          8.5,   9.5,  10.5,  11.5,  12.5,  13.5,  14.5,  15.5,  16.5,\n",
       "         17.5,  18.5]),\n",
       " <a list of 19 Patch objects>)"
      ]
     },
     "execution_count": 14,
     "metadata": {},
     "output_type": "execute_result"
    },
    {
     "data": {
      "image/png": "[encoded data removed]",
      "text/plain": [
       "<matplotlib.figure.Figure at 0x28b1cdeca20>"
      ]
     },
     "metadata": {},
     "output_type": "display_data"
    }
   ],
   "source": [
    "plt.xticks(range(20),range(20))\n",
    "plt.hist(Best_perform_distribution, \n",
    "         bins=np.arange(20)-0.5)"
   ]
  },
  {
   "cell_type": "code",
   "execution_count": 15,
   "metadata": {},
   "outputs": [
    {
     "name": "stdout",
     "output_type": "stream",
     "text": [
      "[10 19 19 13 12 12  1 10  1 17  3  4  1  5 16  9  7  4 19 10 13 18 12  3  1]\n"
     ]
    },
    {
     "data": {
      "text/plain": [
       "(array([ 0.,  4.,  0.,  2.,  2.,  1.,  0.,  1.,  0.,  1.,  3.,  0.,  3.,\n",
       "         2.,  0.,  0.,  1.,  1.,  1.]),\n",
       " array([ -0.5,   0.5,   1.5,   2.5,   3.5,   4.5,   5.5,   6.5,   7.5,\n",
       "          8.5,   9.5,  10.5,  11.5,  12.5,  13.5,  14.5,  15.5,  16.5,\n",
       "         17.5,  18.5]),\n",
       " <a list of 1 Patch objects>)"
      ]
     },
     "execution_count": 15,
     "metadata": {},
     "output_type": "execute_result"
    },
    {
     "data": {
      "image/png": "[encoded data removed]",
      "text/plain": [
       "<matplotlib.figure.Figure at 0x28b20d34f60>"
      ]
     },
     "metadata": {},
     "output_type": "display_data"
    }
   ],
   "source": [
    "Worst_perform_distribution = np.argmin(P, axis=1)\n",
    "print(Worst_perform_distribution)\n",
    "plt.xticks(range(20),range(20))\n",
    "\n",
    "plt.hist(Worst_perform_distribution, \n",
    "         bins=np.arange(20)-0.5, histtype='stepfilled')"
   ]
  },
  {
   "cell_type": "code",
   "execution_count": 16,
   "metadata": {},
   "outputs": [
    {
     "data": {
      "text/plain": [
       "array([ 0.435     ,  0.54761904,  0.48333332,  0.51666665,  0.47692308,\n",
       "        0.44848484,  0.51999998,  0.44374999,  0.58928573,  0.58333331,\n",
       "        0.38181818,  0.48387095,  0.47083333,  0.53448278,  0.51379311,\n",
       "        0.5057143 ,  0.51071429,  0.4848485 ,  0.47647059,  0.57083333], dtype=float32)"
      ]
     },
     "execution_count": 16,
     "metadata": {},
     "output_type": "execute_result"
    }
   ],
   "source": [
    "P[0,:] # Performance of student index i = 0"
   ]
  },
  {
   "cell_type": "code",
   "execution_count": 17,
   "metadata": {},
   "outputs": [],
   "source": [
    "avg = np.mean(P, axis=0)"
   ]
  },
  {
   "cell_type": "code",
   "execution_count": 18,
   "metadata": {},
   "outputs": [
    {
     "data": {
      "text/plain": [
       "array([ 0.50639999,  0.50285709,  0.50266671,  0.49277782,  0.51584619,\n",
       "        0.49599999,  0.51373327,  0.51137507,  0.51014286,  0.5115    ,\n",
       "        0.50387877,  0.51187086,  0.49683338,  0.50482762,  0.49324146,\n",
       "        0.52994287,  0.50371432,  0.49612126,  0.51988238,  0.48083332], dtype=float32)"
      ]
     },
     "execution_count": 18,
     "metadata": {},
     "output_type": "execute_result"
    }
   ],
   "source": [
    "avg # Điểm số trung bình của tất cả sinh viên"
   ]
  },
  {
   "cell_type": "code",
   "execution_count": 19,
   "metadata": {
    "collapsed": true
   },
   "outputs": [],
   "source": [
    "def mean_score(x):\n",
    "    # input x : list [0...1...] where x_i = 1 if student i is on team\n",
    "    return P[x,:].mean(axis=0)"
   ]
  },
  {
   "cell_type": "code",
   "execution_count": 20,
   "metadata": {},
   "outputs": [
    {
     "data": {
      "text/plain": [
       "array([ 0.53500003,  0.52222222,  0.43333331,  0.41759261,  0.53589743,\n",
       "        0.48989901,  0.50111109,  0.5916667 ,  0.50238091,  0.48333335,\n",
       "        0.47676769,  0.50860214,  0.45555556,  0.46091953,  0.5103448 ,\n",
       "        0.47333333,  0.52738094,  0.47777775,  0.50588232,  0.37083337], dtype=float32)"
      ]
     },
     "execution_count": 20,
     "metadata": {},
     "output_type": "execute_result"
    }
   ],
   "source": [
    "mean_score([1,2,3])"
   ]
  },
  {
   "cell_type": "code",
   "execution_count": 21,
   "metadata": {},
   "outputs": [
    {
     "data": {
      "text/plain": [
       "array([ 0.53500003,  0.52222222,  0.43333331,  0.41759261,  0.53589743,\n",
       "        0.48989901,  0.50111109,  0.5916667 ,  0.50238091,  0.48333335,\n",
       "        0.47676769,  0.50860214,  0.45555556,  0.46091953,  0.5103448 ,\n",
       "        0.47333333,  0.52738094,  0.47777775,  0.50588232,  0.37083337], dtype=float32)"
      ]
     },
     "execution_count": 21,
     "metadata": {},
     "output_type": "execute_result"
    }
   ],
   "source": [
    "np.sum(P[[1,2,3],:],axis=0)/3 # ok"
   ]
  },
  {
   "cell_type": "code",
   "execution_count": 22,
   "metadata": {},
   "outputs": [
    {
     "data": {
      "text/plain": [
       "6"
      ]
     },
     "execution_count": 22,
     "metadata": {},
     "output_type": "execute_result"
    }
   ],
   "source": [
    "np.sum(mean_score([1,2,3]) > avg)"
   ]
  },
  {
   "cell_type": "code",
   "execution_count": 23,
   "metadata": {},
   "outputs": [
    {
     "data": {
      "text/plain": [
       "array([ True,  True, False, False,  True, False, False,  True, False,\n",
       "       False, False, False, False, False,  True, False,  True, False,\n",
       "       False, False], dtype=bool)"
      ]
     },
     "execution_count": 23,
     "metadata": {},
     "output_type": "execute_result"
    }
   ],
   "source": [
    "mean_score([1,2,3]) > avg"
   ]
  },
  {
   "cell_type": "code",
   "execution_count": 24,
   "metadata": {},
   "outputs": [],
   "source": [
    "def test_objective(x):\n",
    "    # input x : list [0...1...] where x_i = 1 if student i is on team\n",
    "    # decrease 1% of team score for each problem type that perform under average \n",
    "    mean = mean_score(x)\n",
    "    under = np.sum(mean < avg) # no types which score is lower than average\n",
    "    return np.sum(mean) * (100-under)/100 # reduce it"
   ]
  },
  {
   "cell_type": "code",
   "execution_count": 25,
   "metadata": {},
   "outputs": [
    {
     "data": {
      "text/plain": [
       "8.4106570625305181"
      ]
     },
     "execution_count": 25,
     "metadata": {},
     "output_type": "execute_result"
    }
   ],
   "source": [
    "test_objective([1,2,3])"
   ]
  },
  {
   "cell_type": "code",
   "execution_count": 26,
   "metadata": {},
   "outputs": [
    {
     "data": {
      "text/plain": [
       "9.7798340916633606"
      ]
     },
     "execution_count": 26,
     "metadata": {},
     "output_type": "execute_result"
    }
   ],
   "source": [
    "sum(mean_score([1,2,3]))"
   ]
  },
  {
   "cell_type": "code",
   "execution_count": 27,
   "metadata": {},
   "outputs": [
    {
     "data": {
      "text/plain": [
       "array([ 0.53500003,  0.52222222,  0.43333331,  0.41759261,  0.53589743,\n",
       "        0.48989901,  0.50111109,  0.5916667 ,  0.50238091,  0.48333335,\n",
       "        0.47676769,  0.50860214,  0.45555556,  0.46091953,  0.5103448 ,\n",
       "        0.47333333,  0.52738094,  0.47777775,  0.50588232,  0.37083337], dtype=float32)"
      ]
     },
     "execution_count": 27,
     "metadata": {},
     "output_type": "execute_result"
    }
   ],
   "source": [
    "mean_score([1,2,3])"
   ]
  },
  {
   "cell_type": "code",
   "execution_count": 28,
   "metadata": {},
   "outputs": [],
   "source": [
    "team = []\n",
    "means = []\n",
    "news = []\n",
    "for first in range(k-2):\n",
    "    for(second) in range(first+1,k-1):\n",
    "        for(last) in range(second+1,k):\n",
    "            team.append([first,second,last])\n",
    "            means.append(np.sum(mean_score([first,second,last])))\n",
    "            news.append(test_objective([first,second,last]))"
   ]
  },
  {
   "cell_type": "code",
   "execution_count": 29,
   "metadata": {},
   "outputs": [
    {
     "data": {
      "text/plain": [
       "array([[ 1.        ,  0.90151138],\n",
       "       [ 0.90151138,  1.        ]])"
      ]
     },
     "execution_count": 29,
     "metadata": {},
     "output_type": "execute_result"
    }
   ],
   "source": [
    "np.corrcoef(means,news)"
   ]
  },
  {
   "cell_type": "code",
   "execution_count": 30,
   "metadata": {},
   "outputs": [],
   "source": [
    "import pandas as pd\n",
    "\n",
    "data = pd.DataFrame(\n",
    "    {\n",
    "        'Mean result' : means,\n",
    "        'Mean result reduced' : news\n",
    "    }\n",
    ")\n",
    "\n"
   ]
  },
  {
   "cell_type": "code",
   "execution_count": 31,
   "metadata": {},
   "outputs": [
    {
     "data": {
      "text/plain": [
       "<seaborn.axisgrid.JointGrid at 0x28b20d5f978>"
      ]
     },
     "execution_count": 31,
     "metadata": {},
     "output_type": "execute_result"
    },
    {
     "data": {
      "text/plain": [
       "<matplotlib.figure.Figure at 0x28b20d5f898>"
      ]
     },
     "metadata": {},
     "output_type": "display_data"
    },
    {
     "data": {
      "image/png": "[encoded data removed]",
      "text/plain": [
       "<matplotlib.figure.Figure at 0x28b20de0940>"
      ]
     },
     "metadata": {},
     "output_type": "display_data"
    }
   ],
   "source": [
    "plt.figure(figsize = (16,5))\n",
    "\n",
    "sns.jointplot(x='Mean result',y='Mean result reduced', data=data)"
   ]
  },
  {
   "cell_type": "code",
   "execution_count": 32,
   "metadata": {},
   "outputs": [],
   "source": [
    "max_sum = means.index(max(means))\n",
    "max_new = news.index(max(news))"
   ]
  },
  {
   "cell_type": "code",
   "execution_count": 33,
   "metadata": {},
   "outputs": [],
   "source": [
    "best_objective_team = team[max_new]\n",
    "best_old_team = team[max_sum]"
   ]
  },
  {
   "cell_type": "code",
   "execution_count": 34,
   "metadata": {},
   "outputs": [
    {
     "name": "stdout",
     "output_type": "stream",
     "text": [
      "Result of team  [8, 9, 21]  with highest mean score : \n",
      "[ 0.52999997  0.56666666  0.48111114  0.5481481   0.52307689  0.47777781\n",
      "  0.54777771  0.48749998  0.52261907  0.5152778   0.53636366  0.55376339\n",
      "  0.54027778  0.50229883  0.50804597  0.5447619   0.49523807  0.49797979\n",
      "  0.53529412  0.54166669]\n",
      "Number of problems type under avg :  5\n"
     ]
    }
   ],
   "source": [
    "print('Result of team ',best_old_team,' with highest mean score : ')\n",
    "print(mean_score(best_old_team))\n",
    "print('Number of problems type under avg : ', np.sum(mean_score(best_old_team) < avg))"
   ]
  },
  {
   "cell_type": "code",
   "execution_count": 35,
   "metadata": {},
   "outputs": [
    {
     "name": "stdout",
     "output_type": "stream",
     "text": [
      "Result of team  [8, 9, 23]  with highest reduced mean score : \n",
      "[ 0.54333335  0.50634921  0.4611111   0.50833327  0.5282051   0.51616162\n",
      "  0.55555552  0.48854163  0.52857143  0.5180555   0.559596    0.5333333\n",
      "  0.51111108  0.50689656  0.5         0.53619045  0.48214284  0.5363636\n",
      "  0.56078428  0.51249999]\n",
      "Number of problems type under avg :  3\n"
     ]
    }
   ],
   "source": [
    "print('Result of team ',best_objective_team,' with highest reduced mean score : ')\n",
    "print(mean_score(best_objective_team))\n",
    "print('Number of problems type under avg : ', np.sum(mean_score(best_objective_team) < avg))"
   ]
  },
  {
   "cell_type": "code",
   "execution_count": 36,
   "metadata": {},
   "outputs": [
    {
     "name": "stdout",
     "output_type": "stream",
     "text": [
      "Compare two teams : \n",
      "[ 0.01333338 -0.06031746 -0.02000004 -0.03981483  0.0051282   0.03838381\n",
      "  0.00777781  0.00104165  0.00595236  0.0027777   0.02323234 -0.02043009\n",
      " -0.0291667   0.00459772 -0.00804597 -0.00857145 -0.01309523  0.03838381\n",
      "  0.02549016 -0.0291667 ]\n"
     ]
    }
   ],
   "source": [
    "print('Compare two teams : ')\n",
    "print(mean_score(best_objective_team) - mean_score(best_old_team))"
   ]
  },
  {
   "cell_type": "code",
   "execution_count": 37,
   "metadata": {
    "collapsed": true
   },
   "outputs": [],
   "source": [
    "# Test cosine similarity của 2 team so với E:\n",
    "def cosine_sim(v1,v2):\n",
    "    return np.dot(v1,v2)/(np.linalg.norm(v1) * np.linalg.norm(v2))"
   ]
  },
  {
   "cell_type": "code",
   "execution_count": 38,
   "metadata": {
    "collapsed": true
   },
   "outputs": [],
   "source": [
    "E = number_of_problems"
   ]
  },
  {
   "cell_type": "code",
   "execution_count": 39,
   "metadata": {},
   "outputs": [
    {
     "name": "stdout",
     "output_type": "stream",
     "text": [
      "Cosine similarity of team with mean reduced objective :  0.989806682707\n"
     ]
    }
   ],
   "source": [
    "print('Cosine similarity of team with mean reduced objective : ',cosine_sim(mean_score(best_objective_team),E))"
   ]
  },
  {
   "cell_type": "code",
   "execution_count": 40,
   "metadata": {},
   "outputs": [
    {
     "name": "stdout",
     "output_type": "stream",
     "text": [
      "Cosine similarity of best team with mean objective (old idea):  0.98632128752\n"
     ]
    }
   ],
   "source": [
    "print('Cosine similarity of best team with mean objective (old idea): ',cosine_sim(mean_score(best_old_team),E))"
   ]
  },
  {
   "cell_type": "code",
   "execution_count": 47,
   "metadata": {},
   "outputs": [
    {
     "name": "stdout",
     "output_type": "stream",
     "text": [
      "student 21 (team highest mean) result with student 23 (team highest objective score)  :\n"
     ]
    },
    {
     "data": {
      "text/plain": [
       "array([-0.04000002,  0.18095237,  0.06      ,  0.11944443, -0.01538461,\n",
       "       -0.11515149, -0.02333331, -0.00312495, -0.01785713, -0.00833333,\n",
       "       -0.06969696,  0.06129032,  0.08750001, -0.01379305,  0.02413791,\n",
       "        0.02571428,  0.03928569, -0.11515149, -0.07647058,  0.08750001], dtype=float32)"
      ]
     },
     "execution_count": 47,
     "metadata": {},
     "output_type": "execute_result"
    }
   ],
   "source": [
    "#compare student 21 and 23 :\n",
    "print('student 21 (team highest mean) result with student 23 (team highest objective score)  :')\n",
    "P[21,:] - P[23,:]"
   ]
  },
  {
   "cell_type": "code",
   "execution_count": 48,
   "metadata": {},
   "outputs": [
    {
     "data": {
      "text/plain": [
       "0.68582499"
      ]
     },
     "execution_count": 48,
     "metadata": {},
     "output_type": "execute_result"
    }
   ],
   "source": [
    "(P[21,:]- P[23,:])[P[21,:] - P[23,:] > 0].sum()"
   ]
  },
  {
   "cell_type": "code",
   "execution_count": 49,
   "metadata": {},
   "outputs": [
    {
     "data": {
      "text/plain": [
       "0.49829695"
      ]
     },
     "execution_count": 49,
     "metadata": {},
     "output_type": "execute_result"
    }
   ],
   "source": [
    "(P[23,:]- P[21,:])[P[23,:] - P[21,:] > 0].sum()"
   ]
  },
  {
   "cell_type": "code",
   "execution_count": null,
   "metadata": {
    "collapsed": true
   },
   "outputs": [],
   "source": []
  }
 ],
 "metadata": {
  "kernelspec": {
   "display_name": "Python 3",
   "language": "python",
   "name": "python3"
  },
  "language_info": {
   "codemirror_mode": {
    "name": "ipython",
    "version": 3
   },
   "file_extension": ".py",
   "mimetype": "text/x-python",
   "name": "python",
   "nbconvert_exporter": "python",
   "pygments_lexer": "ipython3",
   "version": "3.6.2"
  }
 },
 "nbformat": 4,
 "nbformat_minor": 2
}
