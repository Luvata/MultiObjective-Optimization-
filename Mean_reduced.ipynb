{
 "cells": [
  {
   "cell_type": "markdown",
   "metadata": {},
   "source": [
    "# Multi-Objective Optimizations \n",
    "\n",
    "Ở phần này, ta sẽ thử với nhiều tập dữ liệu có đặc điểm khác nhau & phát triển phương trình đánh giá performance hợp lý "
   ]
  },
  {
   "cell_type": "code",
   "execution_count": 1,
   "metadata": {
    "collapsed": true
   },
   "outputs": [],
   "source": [
    "import numpy as np\n",
    "import matplotlib.pyplot as plt\n",
    "%matplotlib inline\n",
    "import seaborn as sns\n",
    "sns.set(color_codes=True)"
   ]
  },
  {
   "cell_type": "markdown",
   "metadata": {},
   "source": [
    "## Ta sẽ quy về 1 objective, các trường hợp sẽ thử implements với greedy search"
   ]
  },
  {
   "cell_type": "code",
   "execution_count": 2,
   "metadata": {
    "collapsed": true
   },
   "outputs": [],
   "source": [
    "n = 600 # number of problems\n",
    "m = 20 # problem types\n",
    "k = 25 # students\n"
   ]
  },
  {
   "cell_type": "code",
   "execution_count": 3,
   "metadata": {
    "collapsed": true
   },
   "outputs": [],
   "source": [
    "R = np.random.randint(low=0,high=11,dtype='int32',size=[n,k])"
   ]
  },
  {
   "cell_type": "code",
   "execution_count": 4,
   "metadata": {},
   "outputs": [
    {
     "data": {
      "text/plain": [
       "(600, 25)"
      ]
     },
     "execution_count": 4,
     "metadata": {},
     "output_type": "execute_result"
    }
   ],
   "source": [
    "# R là kết quả của k students với n problems\n",
    "R.shape"
   ]
  },
  {
   "cell_type": "code",
   "execution_count": 5,
   "metadata": {
    "collapsed": true
   },
   "outputs": [],
   "source": [
    "# Số bài mỗi dạng : Random bằng cách reo xúc xắc 20 mặt 300 lần. "
   ]
  },
  {
   "cell_type": "code",
   "execution_count": 6,
   "metadata": {
    "collapsed": true
   },
   "outputs": [],
   "source": [
    "number_of_problems = np.random.multinomial(n, [1./m]*m)"
   ]
  },
  {
   "cell_type": "code",
   "execution_count": 7,
   "metadata": {},
   "outputs": [
    {
     "data": {
      "text/plain": [
       "array([33, 19, 41, 32, 39, 33, 27, 36, 32, 29, 24, 30, 20, 32, 26, 24, 33,\n",
       "       28, 34, 28])"
      ]
     },
     "execution_count": 7,
     "metadata": {},
     "output_type": "execute_result"
    }
   ],
   "source": [
    "number_of_problems"
   ]
  },
  {
   "cell_type": "code",
   "execution_count": 8,
   "metadata": {},
   "outputs": [
    {
     "data": {
      "text/plain": [
       "<matplotlib.axes._subplots.AxesSubplot at 0x272b8c42d30>"
      ]
     },
     "execution_count": 8,
     "metadata": {},
     "output_type": "execute_result"
    },
    {
     "data": {
      "image/png": "[encoded data removed]",
      "text/plain": [
       "<matplotlib.figure.Figure at 0x272b54cacc0>"
      ]
     },
     "metadata": {},
     "output_type": "display_data"
    }
   ],
   "source": [
    "sns.distplot(number_of_problems)"
   ]
  },
  {
   "cell_type": "code",
   "execution_count": 9,
   "metadata": {},
   "outputs": [
    {
     "data": {
      "text/plain": [
       "(25, 20)"
      ]
     },
     "execution_count": 9,
     "metadata": {},
     "output_type": "execute_result"
    }
   ],
   "source": [
    "# P : k*m là ma trận điểm số của k student cho m dạng bài \n",
    "P = np.zeros([k,m],dtype='float32') # chưa tính giá trị\n",
    "P.shape"
   ]
  },
  {
   "cell_type": "code",
   "execution_count": 10,
   "metadata": {
    "collapsed": true
   },
   "outputs": [],
   "source": [
    "# Tính tổng điểm của m problem type cho k student\n",
    "start = 0\n",
    "for i in range(m):\n",
    "    quantity = number_of_problems[i]\n",
    "    # print(quantity)\n",
    "    P[:,i] = (R[start:start+quantity, : ].sum(axis=0))/(quantity*10) # Kết quả mỗi dạng max = 1\n",
    "    start+=quantity"
   ]
  },
  {
   "cell_type": "code",
   "execution_count": 11,
   "metadata": {},
   "outputs": [
    {
     "name": "stdout",
     "output_type": "stream",
     "text": [
      "Result of student i = 5 :\n",
      "[ 0.4969697   0.53684211  0.45365855  0.60312498  0.56153846  0.43030304\n",
      "  0.49629629  0.52777779  0.45937499  0.55517244  0.41666666  0.54000002\n",
      "  0.565       0.44999999  0.46153846  0.40000001  0.54848486  0.63928574\n",
      "  0.5         0.47857141]\n",
      "student i = 5 performed best at problems type # 17 with score =  0.639286\n"
     ]
    }
   ],
   "source": [
    "# Kết quả của students i = 5\n",
    "print(\"Result of student i = 5 :\")\n",
    "print(P[5,:])\n",
    "print(\"student i = 5 performed best at problems type #\", np.argmax(P[5,:]),\"with score = \", np.amax(P[5,:]) )"
   ]
  },
  {
   "cell_type": "code",
   "execution_count": 12,
   "metadata": {
    "collapsed": true
   },
   "outputs": [],
   "source": [
    "# Tìm problems type tốt nhất k student\n",
    "Best_perform_distribution = np.zeros(k, dtype='int32') "
   ]
  },
  {
   "cell_type": "code",
   "execution_count": 13,
   "metadata": {},
   "outputs": [
    {
     "data": {
      "text/plain": [
       "array([ 8, 19, 17,  1,  7, 17, 11, 17, 14,  0, 15,  1,  2,  4, 17, 12, 10,\n",
       "        3,  3, 12,  8,  9,  1, 15,  7], dtype=int64)"
      ]
     },
     "execution_count": 13,
     "metadata": {},
     "output_type": "execute_result"
    }
   ],
   "source": [
    "Best_perform_distribution = np.argmax(P, axis=1)\n",
    "Best_perform_distribution"
   ]
  },
  {
   "cell_type": "code",
   "execution_count": 14,
   "metadata": {},
   "outputs": [
    {
     "data": {
      "text/plain": [
       "(array([ 1.,  3.,  1.,  2.,  1.,  0.,  0.,  2.,  2.,  1.,  1.,  1.,  2.,\n",
       "         0.,  1.,  2.,  0.,  4.,  0.]),\n",
       " array([ -0.5,   0.5,   1.5,   2.5,   3.5,   4.5,   5.5,   6.5,   7.5,\n",
       "          8.5,   9.5,  10.5,  11.5,  12.5,  13.5,  14.5,  15.5,  16.5,\n",
       "         17.5,  18.5]),\n",
       " <a list of 19 Patch objects>)"
      ]
     },
     "execution_count": 14,
     "metadata": {},
     "output_type": "execute_result"
    },
    {
     "data": {
      "image/png": "[encoded data removed]",
      "text/plain": [
       "<matplotlib.figure.Figure at 0x272b54caba8>"
      ]
     },
     "metadata": {},
     "output_type": "display_data"
    }
   ],
   "source": [
    "plt.xticks(range(20),range(20))\n",
    "plt.hist(Best_perform_distribution, \n",
    "         bins=np.arange(20)-0.5)"
   ]
  },
  {
   "cell_type": "code",
   "execution_count": 15,
   "metadata": {},
   "outputs": [
    {
     "name": "stdout",
     "output_type": "stream",
     "text": [
      "[10  1 18 15 10 15 14 12  8 13  5 11 12  1 14  1 13  7 12  9 16 14 10 10 14]\n"
     ]
    },
    {
     "data": {
      "text/plain": [
       "(array([ 0.,  3.,  0.,  0.,  0.,  1.,  0.,  1.,  1.,  1.,  4.,  1.,  3.,\n",
       "         2.,  4.,  2.,  1.,  0.,  1.]),\n",
       " array([ -0.5,   0.5,   1.5,   2.5,   3.5,   4.5,   5.5,   6.5,   7.5,\n",
       "          8.5,   9.5,  10.5,  11.5,  12.5,  13.5,  14.5,  15.5,  16.5,\n",
       "         17.5,  18.5]),\n",
       " <a list of 1 Patch objects>)"
      ]
     },
     "execution_count": 15,
     "metadata": {},
     "output_type": "execute_result"
    },
    {
     "data": {
      "image/png": "[encoded data removed]",
      "text/plain": [
       "<matplotlib.figure.Figure at 0x272b940fe80>"
      ]
     },
     "metadata": {},
     "output_type": "display_data"
    }
   ],
   "source": [
    "Worst_perform_distribution = np.argmin(P, axis=1)\n",
    "print(Worst_perform_distribution)\n",
    "plt.xticks(range(20),range(20))\n",
    "\n",
    "plt.hist(Worst_perform_distribution, \n",
    "         bins=np.arange(20)-0.5, histtype='stepfilled')"
   ]
  },
  {
   "cell_type": "code",
   "execution_count": 16,
   "metadata": {},
   "outputs": [
    {
     "data": {
      "text/plain": [
       "array([ 0.40909091,  0.49473685,  0.49756098,  0.44062501,  0.45128205,\n",
       "        0.57272726,  0.48148149,  0.40555555,  0.64999998,  0.54137933,\n",
       "        0.38333333,  0.46000001,  0.47      ,  0.484375  ,  0.53846157,\n",
       "        0.48750001,  0.42424244,  0.56785715,  0.50882351,  0.58214283], dtype=float32)"
      ]
     },
     "execution_count": 16,
     "metadata": {},
     "output_type": "execute_result"
    }
   ],
   "source": [
    "P[0,:] # Performance of student index i = 0"
   ]
  },
  {
   "cell_type": "code",
   "execution_count": 17,
   "metadata": {},
   "outputs": [],
   "source": [
    "avg = np.mean(P, axis=0)"
   ]
  },
  {
   "cell_type": "code",
   "execution_count": 18,
   "metadata": {},
   "outputs": [
    {
     "data": {
      "text/plain": [
       "array([ 0.50557578,  0.50315785,  0.50321943,  0.50700003,  0.51271796,\n",
       "        0.49733341,  0.50118518,  0.50088888,  0.507375  ,  0.49489659,\n",
       "        0.45633328,  0.49733329,  0.49339998,  0.49862498,  0.49446151,\n",
       "        0.51433337,  0.50484842,  0.52242863,  0.49835289,  0.51185709], dtype=float32)"
      ]
     },
     "execution_count": 18,
     "metadata": {},
     "output_type": "execute_result"
    }
   ],
   "source": [
    "avg # Điểm số trung bình của tất cả sinh viên"
   ]
  },
  {
   "cell_type": "code",
   "execution_count": 19,
   "metadata": {
    "collapsed": true
   },
   "outputs": [],
   "source": [
    "def mean_score(x):\n",
    "    # input x : list [0...1...] where x_i = 1 if student i is on team\n",
    "    return P[x,:].mean(axis=0)"
   ]
  },
  {
   "cell_type": "code",
   "execution_count": 20,
   "metadata": {},
   "outputs": [
    {
     "data": {
      "text/plain": [
       "array([ 0.50101012,  0.52807021,  0.5       ,  0.50312501,  0.52649575,\n",
       "        0.5272727 ,  0.50246912,  0.5       ,  0.484375  ,  0.46781608,\n",
       "        0.44722223,  0.52888888,  0.45166668,  0.50520831,  0.57179487,\n",
       "        0.50972223,  0.4818182 ,  0.55952382,  0.4666667 ,  0.49761903], dtype=float32)"
      ]
     },
     "execution_count": 20,
     "metadata": {},
     "output_type": "execute_result"
    }
   ],
   "source": [
    "mean_score([1,2,3])"
   ]
  },
  {
   "cell_type": "code",
   "execution_count": 21,
   "metadata": {},
   "outputs": [
    {
     "data": {
      "text/plain": [
       "array([ 0.50101012,  0.52807021,  0.5       ,  0.50312501,  0.52649575,\n",
       "        0.5272727 ,  0.50246912,  0.5       ,  0.484375  ,  0.46781608,\n",
       "        0.44722223,  0.52888888,  0.45166668,  0.50520831,  0.57179487,\n",
       "        0.50972223,  0.4818182 ,  0.55952382,  0.4666667 ,  0.49761903], dtype=float32)"
      ]
     },
     "execution_count": 21,
     "metadata": {},
     "output_type": "execute_result"
    }
   ],
   "source": [
    "np.sum(P[[1,2,3],:],axis=0)/3 # ok"
   ]
  },
  {
   "cell_type": "code",
   "execution_count": 22,
   "metadata": {},
   "outputs": [
    {
     "data": {
      "text/plain": [
       "8"
      ]
     },
     "execution_count": 22,
     "metadata": {},
     "output_type": "execute_result"
    }
   ],
   "source": [
    "np.sum(mean_score([1,2,3]) > avg)"
   ]
  },
  {
   "cell_type": "code",
   "execution_count": 23,
   "metadata": {},
   "outputs": [
    {
     "data": {
      "text/plain": [
       "array([False,  True, False, False,  True,  True,  True, False, False,\n",
       "       False, False,  True, False,  True,  True, False, False,  True,\n",
       "       False, False], dtype=bool)"
      ]
     },
     "execution_count": 23,
     "metadata": {},
     "output_type": "execute_result"
    }
   ],
   "source": [
    "mean_score([1,2,3]) > avg"
   ]
  },
  {
   "cell_type": "code",
   "execution_count": 24,
   "metadata": {},
   "outputs": [],
   "source": [
    "def test_objective(x):\n",
    "    # input x : list [0...1...] where x_i = 1 if student i is on team\n",
    "    # decrease 1% of team score for each problem type that perform under average \n",
    "    mean = mean_score(x)\n",
    "    under = np.sum(mean < avg) # no types which score is lower than average\n",
    "    return np.sum(mean) * (100-under)/100 # reduce it"
   ]
  },
  {
   "cell_type": "code",
   "execution_count": 25,
   "metadata": {},
   "outputs": [
    {
     "data": {
      "text/plain": [
       "8.853473434448242"
      ]
     },
     "execution_count": 25,
     "metadata": {},
     "output_type": "execute_result"
    }
   ],
   "source": [
    "test_objective([1,2,3])"
   ]
  },
  {
   "cell_type": "code",
   "execution_count": 26,
   "metadata": {},
   "outputs": [
    {
     "data": {
      "text/plain": [
       "10.060764968395233"
      ]
     },
     "execution_count": 26,
     "metadata": {},
     "output_type": "execute_result"
    }
   ],
   "source": [
    "sum(mean_score([1,2,3]))"
   ]
  },
  {
   "cell_type": "code",
   "execution_count": 27,
   "metadata": {},
   "outputs": [
    {
     "data": {
      "text/plain": [
       "array([ 0.50101012,  0.52807021,  0.5       ,  0.50312501,  0.52649575,\n",
       "        0.5272727 ,  0.50246912,  0.5       ,  0.484375  ,  0.46781608,\n",
       "        0.44722223,  0.52888888,  0.45166668,  0.50520831,  0.57179487,\n",
       "        0.50972223,  0.4818182 ,  0.55952382,  0.4666667 ,  0.49761903], dtype=float32)"
      ]
     },
     "execution_count": 27,
     "metadata": {},
     "output_type": "execute_result"
    }
   ],
   "source": [
    "mean_score([1,2,3])"
   ]
  },
  {
   "cell_type": "code",
   "execution_count": 28,
   "metadata": {},
   "outputs": [],
   "source": [
    "team = []\n",
    "means = []\n",
    "news = []\n",
    "for first in range(k-2):\n",
    "    for(second) in range(first+1,k-1):\n",
    "        for(last) in range(second+1,k):\n",
    "            team.append([first,second,last])\n",
    "            means.append(np.sum(mean_score([first,second,last])))\n",
    "            news.append(test_objective([first,second,last]))"
   ]
  },
  {
   "cell_type": "code",
   "execution_count": 29,
   "metadata": {},
   "outputs": [],
   "source": [
    "import pandas as pd\n",
    "\n",
    "data = pd.DataFrame(\n",
    "    {\n",
    "        'Mean result' : means,\n",
    "        'Mean result reduced' : news\n",
    "    }\n",
    ")\n",
    "\n"
   ]
  },
  {
   "cell_type": "code",
   "execution_count": 30,
   "metadata": {},
   "outputs": [
    {
     "data": {
      "text/plain": [
       "<seaborn.axisgrid.JointGrid at 0x272b94380f0>"
      ]
     },
     "execution_count": 30,
     "metadata": {},
     "output_type": "execute_result"
    },
    {
     "data": {
      "text/plain": [
       "<matplotlib.figure.Figure at 0x272b94384a8>"
      ]
     },
     "metadata": {},
     "output_type": "display_data"
    },
    {
     "data": {
      "image/png": "[encoded data removed]",
      "text/plain": [
       "<matplotlib.figure.Figure at 0x272b94387f0>"
      ]
     },
     "metadata": {},
     "output_type": "display_data"
    }
   ],
   "source": [
    "plt.figure(figsize = (16,5))\n",
    "\n",
    "sns.jointplot(x='Mean result',y='Mean result reduced', data=data)"
   ]
  },
  {
   "cell_type": "code",
   "execution_count": 31,
   "metadata": {},
   "outputs": [],
   "source": [
    "max_sum = means.index(max(means))\n",
    "max_new = news.index(max(news))"
   ]
  },
  {
   "cell_type": "code",
   "execution_count": 32,
   "metadata": {},
   "outputs": [],
   "source": [
    "best_objective_team = team[max_new]\n",
    "best_old_team = team[max_sum]"
   ]
  },
  {
   "cell_type": "code",
   "execution_count": 33,
   "metadata": {},
   "outputs": [
    {
     "name": "stdout",
     "output_type": "stream",
     "text": [
      "Result of team  [11, 15, 22]  with highest mean score : \n",
      "[ 0.55454546  0.55789477  0.53577238  0.48854169  0.52564102  0.5333333\n",
      "  0.52222222  0.51944447  0.54791665  0.5333333   0.48333332  0.50111109\n",
      "  0.56166667  0.51249999  0.54615384  0.5333333   0.53232318  0.52500004\n",
      "  0.51960784  0.52500004]\n",
      "Number of problems type under avg :  1\n"
     ]
    }
   ],
   "source": [
    "print('Result of team ',best_old_team,' with highest mean score : ')\n",
    "print(mean_score(best_old_team))\n",
    "print('Number of problems type under avg : ', np.sum(mean_score(best_old_team) < avg))"
   ]
  },
  {
   "cell_type": "code",
   "execution_count": 34,
   "metadata": {},
   "outputs": [
    {
     "name": "stdout",
     "output_type": "stream",
     "text": [
      "Result of team  [11, 15, 22]  with highest mean score : \n",
      "[ 0.55454546  0.55789477  0.53577238  0.48854169  0.52564102  0.5333333\n",
      "  0.52222222  0.51944447  0.54791665  0.5333333   0.48333332  0.50111109\n",
      "  0.56166667  0.51249999  0.54615384  0.5333333   0.53232318  0.52500004\n",
      "  0.51960784  0.52500004]\n",
      "Number of problems type under avg :  1\n"
     ]
    }
   ],
   "source": [
    "print('Result of team ',best_objective_team,' with highest mean score : ')\n",
    "print(mean_score(best_objective_team))\n",
    "print('Number of problems type under avg : ', np.sum(mean_score(best_objective_team) < avg))"
   ]
  },
  {
   "cell_type": "code",
   "execution_count": 35,
   "metadata": {},
   "outputs": [
    {
     "name": "stdout",
     "output_type": "stream",
     "text": [
      "Compare two teams : \n",
      "[ 0.  0.  0.  0.  0.  0.  0.  0.  0.  0.  0.  0.  0.  0.  0.  0.  0.  0.\n",
      "  0.  0.]\n"
     ]
    }
   ],
   "source": [
    "print('Compare two teams : ')\n",
    "print(mean_score(best_objective_team) - mean_score(best_old_team))"
   ]
  },
  {
   "cell_type": "code",
   "execution_count": 36,
   "metadata": {
    "collapsed": true
   },
   "outputs": [],
   "source": [
    "# Test cosine similarity của 2 team so với E:\n",
    "def cosine_sim(v1,v2):\n",
    "    return np.dot(v1,v2)/(np.linalg.norm(v1) * np.linalg.norm(v2))"
   ]
  },
  {
   "cell_type": "code",
   "execution_count": 37,
   "metadata": {
    "collapsed": true
   },
   "outputs": [],
   "source": [
    "E = number_of_problems"
   ]
  },
  {
   "cell_type": "code",
   "execution_count": 38,
   "metadata": {},
   "outputs": [
    {
     "name": "stdout",
     "output_type": "stream",
     "text": [
      "Cosine similarity of best objective team :  0.981048294994\n"
     ]
    }
   ],
   "source": [
    "print('Cosine similarity of best objective team : ',cosine_sim(mean_score(best_objective_team),E))"
   ]
  },
  {
   "cell_type": "code",
   "execution_count": 39,
   "metadata": {},
   "outputs": [
    {
     "name": "stdout",
     "output_type": "stream",
     "text": [
      "Cosine similarity of best objective team :  0.981048294994\n"
     ]
    }
   ],
   "source": [
    "print('Cosine similarity of best objective team : ',cosine_sim(mean_score(best_old_team),E))"
   ]
  },
  {
   "cell_type": "code",
   "execution_count": null,
   "metadata": {
    "collapsed": true
   },
   "outputs": [],
   "source": []
  }
 ],
 "metadata": {
  "kernelspec": {
   "display_name": "Python 3",
   "language": "python",
   "name": "python3"
  },
  "language_info": {
   "codemirror_mode": {
    "name": "ipython",
    "version": 3
   },
   "file_extension": ".py",
   "mimetype": "text/x-python",
   "name": "python",
   "nbconvert_exporter": "python",
   "pygments_lexer": "ipython3",
   "version": "3.6.2"
  }
 },
 "nbformat": 4,
 "nbformat_minor": 2
}
