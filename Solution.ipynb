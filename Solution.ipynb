{
 "cells": [
  {
   "cell_type": "code",
   "execution_count": 1,
   "metadata": {
    "collapsed": true
   },
   "outputs": [],
   "source": [
    "import numpy as np\n",
    "import matplotlib.pyplot as plt\n",
    "%matplotlib inline\n",
    "import seaborn as sns\n",
    "sns.set(color_codes=True)"
   ]
  },
  {
   "cell_type": "code",
   "execution_count": 2,
   "metadata": {
    "collapsed": true
   },
   "outputs": [],
   "source": [
    "n = 600 # number of problems\n",
    "m = 20 # problem types\n",
    "k = 25 # students\n"
   ]
  },
  {
   "cell_type": "code",
   "execution_count": 3,
   "metadata": {
    "collapsed": true
   },
   "outputs": [],
   "source": [
    "R = np.random.randint(low=0,high=10,dtype='int32',size=[n,k])"
   ]
  },
  {
   "cell_type": "code",
   "execution_count": 4,
   "metadata": {},
   "outputs": [
    {
     "data": {
      "text/plain": [
       "(600, 25)"
      ]
     },
     "execution_count": 4,
     "metadata": {},
     "output_type": "execute_result"
    }
   ],
   "source": [
    "# R là kết quả của k students với n problems\n",
    "R.shape"
   ]
  },
  {
   "cell_type": "code",
   "execution_count": 5,
   "metadata": {},
   "outputs": [
    {
     "data": {
      "text/plain": [
       "array([8, 0, 0, 0, 5, 6, 2, 4, 8, 3, 8, 1, 9, 7, 1, 8, 2, 9, 1, 1, 6, 2, 2,\n",
       "       0, 1, 6, 3, 6, 0, 8, 4, 6, 4, 0, 4, 2, 6, 1, 1, 3, 5, 4, 5, 8, 6, 3,\n",
       "       4, 0, 9, 3, 9, 3, 1, 0, 7, 2, 3, 5, 6, 0, 9, 9, 8, 1, 0, 7, 9, 9, 7,\n",
       "       0, 1, 7, 4, 2, 3, 1, 7, 7, 0, 0, 7, 6, 2, 0, 5, 1, 8, 6, 8, 0, 3, 8,\n",
       "       0, 2, 6, 2, 3, 1, 9, 3, 8, 9, 3, 8, 4, 7, 3, 5, 7, 8, 7, 8, 1, 2, 6,\n",
       "       1, 0, 4, 2, 8, 9, 9, 7, 6, 2, 4, 4, 7, 2, 5, 5, 1, 9, 6, 4, 5, 5, 6,\n",
       "       3, 5, 4, 8, 3, 3, 2, 8, 9, 1, 6, 1, 0, 0, 7, 7, 7, 0, 5, 0, 2, 5, 0,\n",
       "       1, 1, 9, 9, 8, 4, 9, 3, 7, 4, 2, 0, 9, 3, 0, 7, 9, 5, 1, 1, 4, 2, 3,\n",
       "       4, 9, 7, 8, 7, 1, 2, 5, 3, 4, 3, 0, 2, 7, 9, 1, 2, 0, 2, 3, 8, 9, 0,\n",
       "       4, 5, 9, 6, 1, 1, 9, 7, 5, 2, 7, 0, 6, 5, 3, 9, 6, 6, 4, 5, 3, 4, 3,\n",
       "       6, 7, 1, 2, 4, 4, 4, 7, 6, 9, 6, 2, 7, 4, 3, 6, 1, 4, 8, 2, 3, 4, 2,\n",
       "       2, 9, 2, 9, 9, 1, 5, 6, 7, 2, 9, 3, 3, 5, 9, 2, 9, 2, 5, 2, 3, 2, 4,\n",
       "       4, 1, 4, 0, 5, 9, 0, 5, 2, 8, 3, 5, 2, 3, 1, 2, 4, 5, 6, 1, 7, 6, 8,\n",
       "       1, 4, 7, 3, 4, 1, 1, 9, 0, 3, 9, 7, 5, 6, 6, 9, 9, 0, 6, 8, 7, 9, 0,\n",
       "       8, 8, 9, 3, 6, 6, 4, 9, 6, 5, 6, 3, 3, 3, 8, 6, 6, 7, 2, 2, 7, 5, 7,\n",
       "       4, 3, 4, 3, 0, 7, 8, 6, 5, 6, 3, 6, 4, 3, 5, 1, 1, 6, 6, 2, 2, 7, 0,\n",
       "       8, 5, 6, 7, 2, 0, 5, 5, 6, 5, 6, 0, 7, 8, 6, 6, 3, 1, 9, 9, 5, 6, 3,\n",
       "       0, 0, 9, 0, 9, 7, 2, 6, 6, 2, 6, 2, 2, 0, 5, 0, 2, 0, 8, 2, 4, 1, 9,\n",
       "       7, 7, 3, 9, 8, 7, 0, 8, 6, 5, 0, 1, 6, 1, 9, 2, 7, 8, 8, 8, 4, 9, 9,\n",
       "       8, 5, 6, 8, 0, 5, 3, 4, 7, 3, 7, 7, 9, 7, 2, 3, 9, 3, 7, 2, 1, 3, 1,\n",
       "       9, 3, 0, 5, 4, 7, 5, 8, 2, 1, 5, 9, 3, 6, 6, 9, 7, 9, 3, 7, 8, 0, 2,\n",
       "       6, 3, 3, 9, 3, 8, 7, 4, 8, 1, 8, 5, 9, 1, 0, 4, 0, 0, 0, 0, 1, 0, 9,\n",
       "       5, 8, 7, 7, 3, 5, 0, 8, 2, 9, 2, 6, 7, 1, 2, 2, 0, 2, 1, 0, 4, 4, 9,\n",
       "       1, 6, 7, 5, 1, 5, 7, 1, 4, 7, 0, 0, 4, 1, 3, 4, 4, 8, 6, 9, 8, 7, 0,\n",
       "       4, 8, 1, 6, 5, 6, 4, 9, 3, 2, 9, 1, 5, 2, 2, 7, 0, 9, 9, 1, 1, 8, 9,\n",
       "       0, 6, 4, 0, 2, 1, 6, 8, 0, 4, 4, 2, 0, 8, 1, 6, 3, 8, 8, 7, 2, 8, 7,\n",
       "       7, 5])"
      ]
     },
     "execution_count": 5,
     "metadata": {},
     "output_type": "execute_result"
    }
   ],
   "source": [
    "# Kết quả của student với i = 10\n",
    "R[:,10-1]"
   ]
  },
  {
   "cell_type": "code",
   "execution_count": 6,
   "metadata": {},
   "outputs": [],
   "source": [
    "number_problems_per_type = np.ones(m,dtype='int32') * int((n/m))  # Coi như số bài mỗi dạng là như nhau  "
   ]
  },
  {
   "cell_type": "code",
   "execution_count": 7,
   "metadata": {},
   "outputs": [
    {
     "data": {
      "text/plain": [
       "30"
      ]
     },
     "execution_count": 7,
     "metadata": {},
     "output_type": "execute_result"
    }
   ],
   "source": [
    "number_problems_per_type[0]"
   ]
  },
  {
   "cell_type": "code",
   "execution_count": 9,
   "metadata": {},
   "outputs": [
    {
     "data": {
      "text/plain": [
       "(25, 20)"
      ]
     },
     "execution_count": 9,
     "metadata": {},
     "output_type": "execute_result"
    }
   ],
   "source": [
    "# P : k*m là ma trận điểm số của k student cho m dạng bài \n",
    "P = np.zeros([k,m],dtype='float32') # chưa tính giá trị\n",
    "P.shape"
   ]
  },
  {
   "cell_type": "code",
   "execution_count": 10,
   "metadata": {},
   "outputs": [
    {
     "data": {
      "text/plain": [
       "array([129, 133, 133, 134, 112, 123, 129, 151, 150, 117, 105, 133,  98,\n",
       "       130, 124, 140, 168, 124, 159, 139, 138, 130, 136, 122, 149])"
      ]
     },
     "execution_count": 10,
     "metadata": {},
     "output_type": "execute_result"
    }
   ],
   "source": [
    "R[:number_problems_per_type[0],:].sum(axis=0) # Kết quả dạng bài đầu tiên (20 problems) của tất cả students"
   ]
  },
  {
   "cell_type": "code",
   "execution_count": 11,
   "metadata": {},
   "outputs": [
    {
     "data": {
      "text/plain": [
       "(25,)"
      ]
     },
     "execution_count": 11,
     "metadata": {},
     "output_type": "execute_result"
    }
   ],
   "source": [
    "P[:,0].shape"
   ]
  },
  {
   "cell_type": "code",
   "execution_count": 14,
   "metadata": {
    "collapsed": true
   },
   "outputs": [],
   "source": [
    "# Tính tổng điểm của m problem type cho k student\n",
    "start = 0\n",
    "for i in range(m):\n",
    "    quantity = number_problems_per_type[i]\n",
    "    # print(quantity)\n",
    "    P[:,i] = (R[start:start+quantity, : ].sum(axis=0))\n",
    "    start+=quantity"
   ]
  },
  {
   "cell_type": "code",
   "execution_count": 16,
   "metadata": {},
   "outputs": [
    {
     "data": {
      "text/plain": [
       "array([ 129.,  133.,  133.,  134.,  112.,  123.,  129.,  151.,  150.,\n",
       "        117.,  105.,  133.,   98.,  130.,  124.,  140.,  168.,  124.,\n",
       "        159.,  139.,  138.,  130.,  136.,  122.,  149.], dtype=float32)"
      ]
     },
     "execution_count": 16,
     "metadata": {},
     "output_type": "execute_result"
    }
   ],
   "source": [
    "# Kết quả của tất cả student ở dạng bài đầu tiên : OK\n",
    "P[:,0]"
   ]
  },
  {
   "cell_type": "code",
   "execution_count": 15,
   "metadata": {},
   "outputs": [
    {
     "data": {
      "text/plain": [
       "array([ 129.,  123.,  169.,  131.,  121.,  145.,  135.,  141.,  120.,\n",
       "        158.,  122.,  143.,  134.,  130.,  132.,  135.,  101.,  134.,\n",
       "        129.,  147.], dtype=float32)"
      ]
     },
     "execution_count": 15,
     "metadata": {},
     "output_type": "execute_result"
    }
   ],
   "source": [
    "# Kết quả của student i = 0 với m dạng bài :\n",
    "P[0,:]"
   ]
  },
  {
   "cell_type": "code",
   "execution_count": 19,
   "metadata": {},
   "outputs": [],
   "source": [
    "TotalResult = P.sum(axis=1) # Tổng kết quả của tất cả students "
   ]
  },
  {
   "cell_type": "code",
   "execution_count": 21,
   "metadata": {},
   "outputs": [
    {
     "name": "stdout",
     "output_type": "stream",
     "text": [
      "[ 2679.  2649.  2650.  2863.  2677.  2688.  2695.  2778.  2739.  2689.\n",
      "  2600.  2635.  2541.  2782.  2767.  2738.  2698.  2732.  2711.  2756.\n",
      "  2577.  2775.  2778.  2634.  2796.]\n",
      "Student index i =  3  has highest score overall\n"
     ]
    }
   ],
   "source": [
    "print(TotalResult)\n",
    "print(\"Student index i = \",np.argmax(TotalResult),\" has highest score overall\")"
   ]
  },
  {
   "cell_type": "code",
   "execution_count": 22,
   "metadata": {
    "collapsed": true
   },
   "outputs": [],
   "source": [
    "x1 = np.zeros(k)\n",
    "x1[1]=1\n",
    "x1[3]=1\n",
    "x1[5]=1"
   ]
  },
  {
   "cell_type": "code",
   "execution_count": 23,
   "metadata": {},
   "outputs": [
    {
     "data": {
      "text/plain": [
       "array([ 0.,  1.,  0.,  1.,  0.,  1.,  0.,  0.,  0.,  0.,  0.,  0.,  0.,\n",
       "        0.,  0.,  0.,  0.,  0.,  0.,  0.,  0.,  0.,  0.,  0.,  0.])"
      ]
     },
     "execution_count": 23,
     "metadata": {},
     "output_type": "execute_result"
    }
   ],
   "source": [
    "x1"
   ]
  },
  {
   "cell_type": "code",
   "execution_count": 24,
   "metadata": {},
   "outputs": [
    {
     "data": {
      "text/plain": [
       "array([ 130.        ,  139.33333333,  132.66666667,  137.66666667,\n",
       "        129.        ,  142.66666667,  124.        ,  132.66666667,\n",
       "        131.33333333,  161.66666667,  130.66666667,  133.33333333,\n",
       "        147.33333333,  126.33333333,  135.        ,  125.33333333,\n",
       "        144.        ,  138.        ,  150.        ,  142.33333333])"
      ]
     },
     "execution_count": 24,
     "metadata": {},
     "output_type": "execute_result"
    }
   ],
   "source": [
    "np.dot(x1,P)/3 # kết quả team với 3 thành viên 1,3,5 "
   ]
  },
  {
   "cell_type": "code",
   "execution_count": 25,
   "metadata": {
    "collapsed": true
   },
   "outputs": [],
   "source": [
    "E = np.ones(m)"
   ]
  },
  {
   "cell_type": "code",
   "execution_count": 26,
   "metadata": {},
   "outputs": [
    {
     "data": {
      "text/plain": [
       "array([ 1.,  1.,  1.,  1.,  1.,  1.,  1.,  1.,  1.,  1.,  1.,  1.,  1.,\n",
       "        1.,  1.,  1.,  1.,  1.,  1.,  1.])"
      ]
     },
     "execution_count": 26,
     "metadata": {},
     "output_type": "execute_result"
    }
   ],
   "source": [
    "E # Expected result"
   ]
  },
  {
   "cell_type": "code",
   "execution_count": 32,
   "metadata": {
    "collapsed": true
   },
   "outputs": [],
   "source": [
    "def O(x):\n",
    "    return np.dot(x,P)/(3*30)"
   ]
  },
  {
   "cell_type": "code",
   "execution_count": 33,
   "metadata": {},
   "outputs": [
    {
     "data": {
      "text/plain": [
       "array([ 4.33333333,  4.64444444,  4.42222222,  4.58888889,  4.3       ,\n",
       "        4.75555556,  4.13333333,  4.42222222,  4.37777778,  5.38888889,\n",
       "        4.35555556,  4.44444444,  4.91111111,  4.21111111,  4.5       ,\n",
       "        4.17777778,  4.8       ,  4.6       ,  5.        ,  4.74444444])"
      ]
     },
     "execution_count": 33,
     "metadata": {},
     "output_type": "execute_result"
    }
   ],
   "source": [
    "O(x1) # OK"
   ]
  },
  {
   "cell_type": "code",
   "execution_count": 34,
   "metadata": {
    "collapsed": true
   },
   "outputs": [],
   "source": [
    "import scipy.spatial.distance as d"
   ]
  },
  {
   "cell_type": "code",
   "execution_count": 81,
   "metadata": {
    "collapsed": true
   },
   "outputs": [],
   "source": [
    "def Objective(x):\n",
    "    vector_O = O(x)\n",
    "    return (1 - d.cosine(vector_O,E)) *  np.linalg.norm(vector_O)\n",
    "# Ban đầu em để d.cosine(vector_O,E), nhưng hàm trên trả về distance, không phải là similarity, phải lấy 1 - đi "
   ]
  },
  {
   "cell_type": "code",
   "execution_count": 82,
   "metadata": {
    "collapsed": true
   },
   "outputs": [],
   "source": [
    "def cosine_sim(v1,v2):\n",
    "    return np.dot(v1,v2)/(np.linalg.norm(v1) * np.linalg.norm(v2))"
   ]
  },
  {
   "cell_type": "code",
   "execution_count": 83,
   "metadata": {
    "collapsed": true
   },
   "outputs": [],
   "source": [
    "def Objective2(x):\n",
    "    vector_O = O(x)\n",
    "    return cosine_sim(vector_O,E)*  np.linalg.norm(vector_O)"
   ]
  },
  {
   "cell_type": "code",
   "execution_count": 84,
   "metadata": {},
   "outputs": [
    {
     "data": {
      "text/plain": [
       "0.0"
      ]
     },
     "execution_count": 84,
     "metadata": {},
     "output_type": "execute_result"
    }
   ],
   "source": [
    "Objective(x1) - Objective2(x1)"
   ]
  },
  {
   "cell_type": "code",
   "execution_count": 85,
   "metadata": {
    "collapsed": true
   },
   "outputs": [],
   "source": [
    "# Greedy search tìm đồng thời đội có Objective score cao nhất / Đội có total score cao nhất \n",
    "\n",
    "Objective_score = []\n",
    "Total_score = []\n",
    "\n",
    "team_max_objective = []\n",
    "team_max_total = []\n",
    "\n",
    "max_objective = 0\n",
    "max_total = 0\n",
    "\n",
    "\n",
    "for first in range(k-2):\n",
    "    for(second) in range(first+1,k-1):\n",
    "        for(last) in range(second+1,k):\n",
    "            x = np.zeros(k)\n",
    "            x[first] =1\n",
    "            x[second] = 1\n",
    "            x[last] = 1\n",
    "            o_score = Objective(x)            \n",
    "            Objective_score.append(o_score)\n",
    "            t_score = R[:,[first,second,last]].sum()\n",
    "            Total_score.append(t_score)\n",
    "            if(o_score > max_objective):\n",
    "                max_objective = o_score\n",
    "                team_max_objective = [first,second,last]\n",
    "            if(t_score > max_total):\n",
    "                max_total = t_score\n",
    "                team_max_total = [first,second,last]"
   ]
  },
  {
   "cell_type": "code",
   "execution_count": 86,
   "metadata": {},
   "outputs": [
    {
     "name": "stdout",
     "output_type": "stream",
     "text": [
      "Max total :  8441  with team :  [3, 13, 24]  team's Objective score : 20.971833109\n"
     ]
    }
   ],
   "source": [
    "x = np.zeros(k)\n",
    "x[team_max_total] = 1\n",
    "print(\"Max total : \",max_total,\" with team : \",team_max_total,\" team's Objective score :\", Objective(x))"
   ]
  },
  {
   "cell_type": "code",
   "execution_count": 87,
   "metadata": {},
   "outputs": [
    {
     "name": "stdout",
     "output_type": "stream",
     "text": [
      "Max objective :  20.971833109  with team :  [3, 13, 24]  team's total score : 8441\n"
     ]
    }
   ],
   "source": [
    "print(\"Max objective : \", max_objective,\" with team : \", team_max_objective, \" team's total score :\", R[:,team_max_objective].sum())"
   ]
  },
  {
   "cell_type": "code",
   "execution_count": 88,
   "metadata": {
    "collapsed": true
   },
   "outputs": [],
   "source": [
    "Objective_score = []\n",
    "Total_score = []\n",
    "for first in range(k-2):\n",
    "    for(second) in range(first+1,k-1):\n",
    "        for(last) in range(second+1,k):\n",
    "            x = np.zeros(k)\n",
    "            x[first] =1\n",
    "            x[second] = 1\n",
    "            x[last] = 1\n",
    "            score = Objective(x)\n",
    "            Objective_score.append(score)\n",
    "            Total_score.append(R[:,[first,second,last]].sum())"
   ]
  },
  {
   "cell_type": "code",
   "execution_count": 89,
   "metadata": {},
   "outputs": [
    {
     "data": {
      "text/plain": [
       "<matplotlib.axes._subplots.AxesSubplot at 0x1d21f940b00>"
      ]
     },
     "execution_count": 89,
     "metadata": {},
     "output_type": "execute_result"
    },
    {
     "data": {
      "image/png": "[encoded data removed]",
      "text/plain": [
       "<matplotlib.figure.Figure at 0x1d21f940358>"
      ]
     },
     "metadata": {},
     "output_type": "display_data"
    }
   ],
   "source": [
    "sns.distplot(Objective_score)"
   ]
  },
  {
   "cell_type": "code",
   "execution_count": 90,
   "metadata": {},
   "outputs": [
    {
     "data": {
      "text/plain": [
       "<matplotlib.axes._subplots.AxesSubplot at 0x1d21f9401d0>"
      ]
     },
     "execution_count": 90,
     "metadata": {},
     "output_type": "execute_result"
    },
    {
     "data": {
      "image/png": "[encoded data removed]",
      "text/plain": [
       "<matplotlib.figure.Figure at 0x1d21f993630>"
      ]
     },
     "metadata": {},
     "output_type": "display_data"
    }
   ],
   "source": [
    "sns.distplot(Total_score)"
   ]
  },
  {
   "cell_type": "code",
   "execution_count": 91,
   "metadata": {
    "collapsed": true
   },
   "outputs": [],
   "source": [
    "import pandas as pd\n",
    "\n",
    "data = pd.DataFrame(\n",
    "    {\n",
    "        'x' : Objective_score,\n",
    "        'y' : Total_score\n",
    "    }\n",
    ")\n"
   ]
  },
  {
   "cell_type": "code",
   "execution_count": 92,
   "metadata": {},
   "outputs": [
    {
     "data": {
      "text/plain": [
       "<seaborn.axisgrid.JointGrid at 0x1d21c77ce10>"
      ]
     },
     "execution_count": 92,
     "metadata": {},
     "output_type": "execute_result"
    },
    {
     "data": {
      "image/png": "[encoded data removed]",
      "text/plain": [
       "<matplotlib.figure.Figure at 0x1d21f26fe80>"
      ]
     },
     "metadata": {},
     "output_type": "display_data"
    }
   ],
   "source": [
    "sns.jointplot(x=\"x\",y=\"y\",data=data)"
   ]
  },
  {
   "cell_type": "code",
   "execution_count": 97,
   "metadata": {},
   "outputs": [
    {
     "data": {
      "text/plain": [
       "array([[ 1.,  1.],\n",
       "       [ 1.,  1.]])"
      ]
     },
     "execution_count": 97,
     "metadata": {},
     "output_type": "execute_result"
    }
   ],
   "source": [
    "np.corrcoef(Objective_score,Total_score)"
   ]
  },
  {
   "cell_type": "code",
   "execution_count": 93,
   "metadata": {},
   "outputs": [
    {
     "data": {
      "text/plain": [
       "<seaborn.axisgrid.JointGrid at 0x1d21e07ada0>"
      ]
     },
     "execution_count": 93,
     "metadata": {},
     "output_type": "execute_result"
    },
    {
     "data": {
      "image/png": "[encoded data removed]",
      "text/plain": [
       "<matplotlib.figure.Figure at 0x1d21e07ae48>"
      ]
     },
     "metadata": {},
     "output_type": "display_data"
    }
   ],
   "source": [
    "sns.jointplot(x=\"x\",y=\"y\",data=data, kind=\"kde\")"
   ]
  },
  {
   "cell_type": "code",
   "execution_count": 96,
   "metadata": {},
   "outputs": [
    {
     "name": "stderr",
     "output_type": "stream",
     "text": [
      "C:\\Users\\asus\\Anaconda3\\lib\\site-packages\\matplotlib\\axes\\_axes.py:545: UserWarning: No labelled objects found. Use label='...' kwarg on individual plots.\n",
      "  warnings.warn(\"No labelled objects found. \"\n"
     ]
    },
    {
     "data": {
      "text/plain": [
       "<seaborn.axisgrid.PairGrid at 0x1d21e922710>"
      ]
     },
     "execution_count": 96,
     "metadata": {},
     "output_type": "execute_result"
    },
    {
     "data": {
      "image/png": "[encoded data removed]",
      "text/plain": [
       "<matplotlib.figure.Figure at 0x1d21e922278>"
      ]
     },
     "metadata": {},
     "output_type": "display_data"
    }
   ],
   "source": [
    "g= sns.PairGrid(data)\n",
    "g.map_diag(sns.kdeplot)\n",
    "g.map_offdiag(sns.kdeplot,cmap=\"Blues_d\",n_levels=6)"
   ]
  },
  {
   "cell_type": "code",
   "execution_count": 95,
   "metadata": {},
   "outputs": [
    {
     "data": {
      "text/plain": [
       "<seaborn.axisgrid.PairGrid at 0x1d21e43b9e8>"
      ]
     },
     "execution_count": 95,
     "metadata": {},
     "output_type": "execute_result"
    },
    {
     "data": {
      "image/png": "[encoded data removed]",
      "text/plain": [
       "<matplotlib.figure.Figure at 0x1d21e48af28>"
      ]
     },
     "metadata": {},
     "output_type": "display_data"
    }
   ],
   "source": [
    "sns.pairplot(data)"
   ]
  },
  {
   "cell_type": "markdown",
   "metadata": {},
   "source": [
    "Objective function và Total_sum là tương đồng "
   ]
  },
  {
   "cell_type": "markdown",
   "metadata": {},
   "source": [
    "# Constructing GAs\n",
    "\n",
    "### Greedy search khá dễ implement khi số students được chọn là nhỏ \n",
    "Tuy vậy khi k lớn cũng như số student được chọn lớn hơn, GAs có thể hoạt động tốt hơn "
   ]
  },
  {
   "cell_type": "code",
   "execution_count": null,
   "metadata": {
    "collapsed": true
   },
   "outputs": [],
   "source": [
    "no_selected_students = 3"
   ]
  },
  {
   "cell_type": "code",
   "execution_count": null,
   "metadata": {
    "collapsed": true
   },
   "outputs": [],
   "source": [
    "class Individual :\n",
    "    genes = np.zeros(k,dtype='b')\n",
    "    fitness = 0\n",
    "    \n",
    "    def generate_individual(self):\n",
    "        indices = np.random.randint(low=0,high=k,size=no_selected_students)\n",
    "        self.genes[indices] = 1\n",
    "    \n",
    "    def fitness_value(self):\n",
    "        return Objective(self.genes)"
   ]
  },
  {
   "cell_type": "code",
   "execution_count": null,
   "metadata": {
    "collapsed": true
   },
   "outputs": [],
   "source": [
    "class Population:\n",
    "    individuals = []\n",
    "    \n",
    "    def __init__(self,pol_size,init=True):\n",
    "        self.individuals = [None] * pol_size\n",
    "        if(init):\n",
    "            for i in range (pol_size):\n",
    "                g = Individual()\n",
    "                g.generate_individual()\n",
    "                individuals[i] = g\n",
    "                \n",
    "    def fittest_indi(self):\n",
    "        fittest_individual = individuals[0]\n",
    "        for i in range(len(individuals)):\n",
    "            if(fittest_individual.fittess_value() <= \n",
    "               individuals[i].fitness_value()):\n",
    "                fittest_individual = individuals[i]\n",
    "        return fittest_individual\n",
    "    \n",
    "    def save_individual(self,index,indvd):\n",
    "        self.individuals.insert(index,indvd)"
   ]
  },
  {
   "cell_type": "raw",
   "metadata": {},
   "source": [
    "class Algorithm:\n",
    "    uniform_rate = 0.5\n",
    "    mutation_rate = 0.015\n",
    "    tournament_size = 5\n",
    "    elitism = True\n",
    "    \n",
    "    def evole_population(self, pop):\n",
    "        new_pop = Population(pol_size=len(pop.individuals),init=False)\n",
    "        if(self.elitism):\n",
    "            new_pop.save_individual(0, pop.fittest_indi())\n",
    "        # cross over :\n",
    "        if(self.elitism):\n",
    "            \n",
    "        "
   ]
  }
 ],
 "metadata": {
  "kernelspec": {
   "display_name": "Python 3",
   "language": "python",
   "name": "python3"
  },
  "language_info": {
   "codemirror_mode": {
    "name": "ipython",
    "version": 3
   },
   "file_extension": ".py",
   "mimetype": "text/x-python",
   "name": "python",
   "nbconvert_exporter": "python",
   "pygments_lexer": "ipython3",
   "version": "3.6.2"
  }
 },
 "nbformat": 4,
 "nbformat_minor": 2
}
